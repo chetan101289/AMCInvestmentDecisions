{
 "cells": [
  {
   "cell_type": "markdown",
   "metadata": {},
   "source": [
    "# Investment Assignment"
   ]
  },
  {
   "cell_type": "code",
   "execution_count": 4,
   "metadata": {},
   "outputs": [],
   "source": [
    "## importing main libraries\n",
    "import numpy as np\n",
    "import pandas as pd\n",
    "import matplotlib.pyplot as plt\n",
    "import seaborn as sns\n",
    "\n",
    "## using the below library to ignore warning messages\n",
    "import warnings\n",
    "warnings.filterwarnings('ignore')"
   ]
  },
  {
   "cell_type": "markdown",
   "metadata": {},
   "source": [
    "# Checkpoint 1: Data Cleaning\n",
    "#### Reading & loading the companies and round2 files into pandas dataframe"
   ]
  },
  {
   "cell_type": "code",
   "execution_count": 5,
   "metadata": {},
   "outputs": [],
   "source": [
    "#companies = pd.read_csv('companies.csv')\n",
    "#rounds2 = pd.read_csv('rounds2.csv')"
   ]
  },
  {
   "cell_type": "markdown",
   "metadata": {},
   "source": [
    "### Encoding Error while loading the files\n",
    "#### Since I am facing an encoding error while loading the companies & rounds2 data, we have to find the encoding first using Chardet and Charset normalizer as Chardet sometimes predict incorrect encoding"
   ]
  },
  {
   "cell_type": "markdown",
   "metadata": {},
   "source": [
    "### To use Charset normalizer, we have to install it first using \"pip install charset_normalizer\""
   ]
  },
  {
   "cell_type": "code",
   "execution_count": 3,
   "metadata": {},
   "outputs": [],
   "source": [
    "import chardet\n",
    "from charset_normalizer import detect"
   ]
  },
  {
   "cell_type": "markdown",
   "metadata": {},
   "source": [
    "#### Finding the correct encoding to read the files in dataframe"
   ]
  },
  {
   "cell_type": "code",
   "execution_count": 1435,
   "metadata": {},
   "outputs": [
    {
     "name": "stdout",
     "output_type": "stream",
     "text": [
      "Encoding for companies.csv(chardet): {'encoding': 'Windows-1254', 'confidence': 0.4610845903762258, 'language': 'Turkish'}\n",
      "Encoding for rounds2.csv(chardet): {'encoding': 'Windows-1254', 'confidence': 0.4186155476629225, 'language': 'Turkish'}\n"
     ]
    }
   ],
   "source": [
    "## using chardet library\n",
    "with open('companies.csv', 'rb') as companies, open('rounds2.csv', 'rb') as rounds2:\n",
    "         enc_value_companies_cd = chardet.detect(companies.read())\n",
    "         enc_value_rounds2_cd = chardet.detect(rounds2.read())\n",
    "            \n",
    "print(f'Encoding for companies.csv(chardet): {enc_value_companies_cd}\\n\\\n",
    "Encoding for rounds2.csv(chardet): {enc_value_rounds2_cd}')"
   ]
  },
  {
   "cell_type": "code",
   "execution_count": 1436,
   "metadata": {},
   "outputs": [
    {
     "name": "stdout",
     "output_type": "stream",
     "text": [
      "Encoding for companies.csv(charset_normalizer): {'encoding': 'cp1125', 'language': 'Indonesian', 'confidence': 1.0}\n",
      "Encoding for rounds2.csv(charset_normalizer): {'encoding': 'cp1125', 'language': 'Baque', 'confidence': 0.976266571969697}\n"
     ]
    }
   ],
   "source": [
    "## using charset_normalizer          \n",
    "with open('companies.csv', 'rb') as companies, open('rounds2.csv', 'rb') as rounds2:            \n",
    "         enc_value_companies_cn = detect(companies.read())\n",
    "         enc_value_rounds2_cn = detect(rounds2.read())\n",
    "    \n",
    "## Let's see what is the encoding values that we get for both the files\n",
    "print(f'Encoding for companies.csv(charset_normalizer): {enc_value_companies_cn}\\n\\\n",
    "Encoding for rounds2.csv(charset_normalizer): {enc_value_rounds2_cn}')"
   ]
  },
  {
   "cell_type": "markdown",
   "metadata": {},
   "source": [
    "### Chardet is approx 40% sure about the encoding 'Windows-1254' whereas Charset normalizer is almost 100% sure that its 'cp1125', let's try loading the files as per those values and see which is the correct one\n",
    "#### I found that the encoding provided by charset_normalizer which is 'cp1125' is the correct one.."
   ]
  },
  {
   "cell_type": "code",
   "execution_count": 1449,
   "metadata": {},
   "outputs": [
    {
     "data": {
      "text/html": [
       "<div>\n",
       "<style scoped>\n",
       "    .dataframe tbody tr th:only-of-type {\n",
       "        vertical-align: middle;\n",
       "    }\n",
       "\n",
       "    .dataframe tbody tr th {\n",
       "        vertical-align: top;\n",
       "    }\n",
       "\n",
       "    .dataframe thead th {\n",
       "        text-align: right;\n",
       "    }\n",
       "</style>\n",
       "<table border=\"1\" class=\"dataframe\">\n",
       "  <thead>\n",
       "    <tr style=\"text-align: right;\">\n",
       "      <th></th>\n",
       "      <th>permalink</th>\n",
       "      <th>name</th>\n",
       "      <th>homepage_url</th>\n",
       "      <th>category_list</th>\n",
       "      <th>status</th>\n",
       "      <th>country_code</th>\n",
       "      <th>state_code</th>\n",
       "      <th>region</th>\n",
       "      <th>city</th>\n",
       "      <th>founded_at</th>\n",
       "    </tr>\n",
       "  </thead>\n",
       "  <tbody>\n",
       "    <tr>\n",
       "      <th>0</th>\n",
       "      <td>/Organization/-Fame</td>\n",
       "      <td>#fame</td>\n",
       "      <td>http://livfame.com</td>\n",
       "      <td>Media</td>\n",
       "      <td>operating</td>\n",
       "      <td>IND</td>\n",
       "      <td>16</td>\n",
       "      <td>Mumbai</td>\n",
       "      <td>Mumbai</td>\n",
       "      <td>NaN</td>\n",
       "    </tr>\n",
       "    <tr>\n",
       "      <th>1</th>\n",
       "      <td>/Organization/-Qounter</td>\n",
       "      <td>:Qounter</td>\n",
       "      <td>http://www.qounter.com</td>\n",
       "      <td>Application Platforms|Real Time|Social Network...</td>\n",
       "      <td>operating</td>\n",
       "      <td>USA</td>\n",
       "      <td>DE</td>\n",
       "      <td>DE - Other</td>\n",
       "      <td>Delaware City</td>\n",
       "      <td>04-09-2014</td>\n",
       "    </tr>\n",
       "    <tr>\n",
       "      <th>2</th>\n",
       "      <td>/Organization/-The-One-Of-Them-Inc-</td>\n",
       "      <td>(THE) ONE of THEM,Inc.</td>\n",
       "      <td>http://oneofthem.jp</td>\n",
       "      <td>Apps|Games|Mobile</td>\n",
       "      <td>operating</td>\n",
       "      <td>NaN</td>\n",
       "      <td>NaN</td>\n",
       "      <td>NaN</td>\n",
       "      <td>NaN</td>\n",
       "      <td>NaN</td>\n",
       "    </tr>\n",
       "    <tr>\n",
       "      <th>3</th>\n",
       "      <td>/Organization/0-6-Com</td>\n",
       "      <td>0-6.com</td>\n",
       "      <td>http://www.0-6.com</td>\n",
       "      <td>Curated Web</td>\n",
       "      <td>operating</td>\n",
       "      <td>CHN</td>\n",
       "      <td>22</td>\n",
       "      <td>Beijing</td>\n",
       "      <td>Beijing</td>\n",
       "      <td>01-01-2007</td>\n",
       "    </tr>\n",
       "    <tr>\n",
       "      <th>4</th>\n",
       "      <td>/Organization/004-Technologies</td>\n",
       "      <td>004 Technologies</td>\n",
       "      <td>http://004gmbh.de/en/004-interact</td>\n",
       "      <td>Software</td>\n",
       "      <td>operating</td>\n",
       "      <td>USA</td>\n",
       "      <td>IL</td>\n",
       "      <td>Springfield, Illinois</td>\n",
       "      <td>Champaign</td>\n",
       "      <td>01-01-2010</td>\n",
       "    </tr>\n",
       "  </tbody>\n",
       "</table>\n",
       "</div>"
      ],
      "text/plain": [
       "                             permalink                    name  \\\n",
       "0                  /Organization/-Fame                   #fame   \n",
       "1               /Organization/-Qounter                :Qounter   \n",
       "2  /Organization/-The-One-Of-Them-Inc-  (THE) ONE of THEM,Inc.   \n",
       "3                /Organization/0-6-Com                 0-6.com   \n",
       "4       /Organization/004-Technologies        004 Technologies   \n",
       "\n",
       "                        homepage_url  \\\n",
       "0                 http://livfame.com   \n",
       "1             http://www.qounter.com   \n",
       "2                http://oneofthem.jp   \n",
       "3                 http://www.0-6.com   \n",
       "4  http://004gmbh.de/en/004-interact   \n",
       "\n",
       "                                       category_list     status country_code  \\\n",
       "0                                              Media  operating          IND   \n",
       "1  Application Platforms|Real Time|Social Network...  operating          USA   \n",
       "2                                  Apps|Games|Mobile  operating          NaN   \n",
       "3                                        Curated Web  operating          CHN   \n",
       "4                                           Software  operating          USA   \n",
       "\n",
       "  state_code                 region           city  founded_at  \n",
       "0         16                 Mumbai         Mumbai         NaN  \n",
       "1         DE             DE - Other  Delaware City  04-09-2014  \n",
       "2        NaN                    NaN            NaN         NaN  \n",
       "3         22                Beijing        Beijing  01-01-2007  \n",
       "4         IL  Springfield, Illinois      Champaign  01-01-2010  "
      ]
     },
     "execution_count": 1449,
     "metadata": {},
     "output_type": "execute_result"
    }
   ],
   "source": [
    "#Let's try to load the files using it or if it doesn't work, I can use \"unicode_escape\" encoding\n",
    "companies = pd.read_csv('companies.csv', encoding='cp1125')\n",
    "\n",
    "rounds2 = pd.read_csv('rounds2.csv', encoding='cp1125')\n",
    "\n",
    "companies.head()"
   ]
  },
  {
   "cell_type": "markdown",
   "metadata": {},
   "source": [
    "#### I can still see some encoded charcters in the dataframe. To fix this lets try to decode it using ascii decoding"
   ]
  },
  {
   "cell_type": "code",
   "execution_count": 1450,
   "metadata": {},
   "outputs": [],
   "source": [
    "companies['permalink'] = companies['permalink'].str.encode('cp1125').str.decode('ascii', 'ignore')\n",
    "\n",
    "companies['name'] = companies['name'].str.encode('cp1125').str.decode('ascii', 'ignore')\n",
    "\n",
    "rounds2['company_permalink'] = rounds2['company_permalink'].str.encode('cp1125').str.decode('ascii', 'ignore')"
   ]
  },
  {
   "cell_type": "code",
   "execution_count": 1451,
   "metadata": {},
   "outputs": [
    {
     "data": {
      "text/html": [
       "<div>\n",
       "<style scoped>\n",
       "    .dataframe tbody tr th:only-of-type {\n",
       "        vertical-align: middle;\n",
       "    }\n",
       "\n",
       "    .dataframe tbody tr th {\n",
       "        vertical-align: top;\n",
       "    }\n",
       "\n",
       "    .dataframe thead th {\n",
       "        text-align: right;\n",
       "    }\n",
       "</style>\n",
       "<table border=\"1\" class=\"dataframe\">\n",
       "  <thead>\n",
       "    <tr style=\"text-align: right;\">\n",
       "      <th></th>\n",
       "      <th>permalink</th>\n",
       "      <th>name</th>\n",
       "      <th>homepage_url</th>\n",
       "      <th>category_list</th>\n",
       "      <th>status</th>\n",
       "      <th>country_code</th>\n",
       "      <th>state_code</th>\n",
       "      <th>region</th>\n",
       "      <th>city</th>\n",
       "      <th>founded_at</th>\n",
       "    </tr>\n",
       "  </thead>\n",
       "  <tbody>\n",
       "    <tr>\n",
       "      <th>0</th>\n",
       "      <td>/Organization/-Fame</td>\n",
       "      <td>#fame</td>\n",
       "      <td>http://livfame.com</td>\n",
       "      <td>Media</td>\n",
       "      <td>operating</td>\n",
       "      <td>IND</td>\n",
       "      <td>16</td>\n",
       "      <td>Mumbai</td>\n",
       "      <td>Mumbai</td>\n",
       "      <td>NaN</td>\n",
       "    </tr>\n",
       "    <tr>\n",
       "      <th>1</th>\n",
       "      <td>/Organization/-Qounter</td>\n",
       "      <td>:Qounter</td>\n",
       "      <td>http://www.qounter.com</td>\n",
       "      <td>Application Platforms|Real Time|Social Network...</td>\n",
       "      <td>operating</td>\n",
       "      <td>USA</td>\n",
       "      <td>DE</td>\n",
       "      <td>DE - Other</td>\n",
       "      <td>Delaware City</td>\n",
       "      <td>04-09-2014</td>\n",
       "    </tr>\n",
       "    <tr>\n",
       "      <th>2</th>\n",
       "      <td>/Organization/-The-One-Of-Them-Inc-</td>\n",
       "      <td>(THE) ONE of THEM,Inc.</td>\n",
       "      <td>http://oneofthem.jp</td>\n",
       "      <td>Apps|Games|Mobile</td>\n",
       "      <td>operating</td>\n",
       "      <td>NaN</td>\n",
       "      <td>NaN</td>\n",
       "      <td>NaN</td>\n",
       "      <td>NaN</td>\n",
       "      <td>NaN</td>\n",
       "    </tr>\n",
       "    <tr>\n",
       "      <th>3</th>\n",
       "      <td>/Organization/0-6-Com</td>\n",
       "      <td>0-6.com</td>\n",
       "      <td>http://www.0-6.com</td>\n",
       "      <td>Curated Web</td>\n",
       "      <td>operating</td>\n",
       "      <td>CHN</td>\n",
       "      <td>22</td>\n",
       "      <td>Beijing</td>\n",
       "      <td>Beijing</td>\n",
       "      <td>01-01-2007</td>\n",
       "    </tr>\n",
       "    <tr>\n",
       "      <th>4</th>\n",
       "      <td>/Organization/004-Technologies</td>\n",
       "      <td>004 Technologies</td>\n",
       "      <td>http://004gmbh.de/en/004-interact</td>\n",
       "      <td>Software</td>\n",
       "      <td>operating</td>\n",
       "      <td>USA</td>\n",
       "      <td>IL</td>\n",
       "      <td>Springfield, Illinois</td>\n",
       "      <td>Champaign</td>\n",
       "      <td>01-01-2010</td>\n",
       "    </tr>\n",
       "  </tbody>\n",
       "</table>\n",
       "</div>"
      ],
      "text/plain": [
       "                             permalink                    name  \\\n",
       "0                  /Organization/-Fame                   #fame   \n",
       "1               /Organization/-Qounter                :Qounter   \n",
       "2  /Organization/-The-One-Of-Them-Inc-  (THE) ONE of THEM,Inc.   \n",
       "3                /Organization/0-6-Com                 0-6.com   \n",
       "4       /Organization/004-Technologies        004 Technologies   \n",
       "\n",
       "                        homepage_url  \\\n",
       "0                 http://livfame.com   \n",
       "1             http://www.qounter.com   \n",
       "2                http://oneofthem.jp   \n",
       "3                 http://www.0-6.com   \n",
       "4  http://004gmbh.de/en/004-interact   \n",
       "\n",
       "                                       category_list     status country_code  \\\n",
       "0                                              Media  operating          IND   \n",
       "1  Application Platforms|Real Time|Social Network...  operating          USA   \n",
       "2                                  Apps|Games|Mobile  operating          NaN   \n",
       "3                                        Curated Web  operating          CHN   \n",
       "4                                           Software  operating          USA   \n",
       "\n",
       "  state_code                 region           city  founded_at  \n",
       "0         16                 Mumbai         Mumbai         NaN  \n",
       "1         DE             DE - Other  Delaware City  04-09-2014  \n",
       "2        NaN                    NaN            NaN         NaN  \n",
       "3         22                Beijing        Beijing  01-01-2007  \n",
       "4         IL  Springfield, Illinois      Champaign  01-01-2010  "
      ]
     },
     "execution_count": 1451,
     "metadata": {},
     "output_type": "execute_result"
    }
   ],
   "source": [
    "## checking if the data is loaded correctly, we can head, tail or sample the dataframe to see the data\n",
    "companies.head()"
   ]
  },
  {
   "cell_type": "code",
   "execution_count": 1452,
   "metadata": {
    "scrolled": true
   },
   "outputs": [
    {
     "data": {
      "text/html": [
       "<div>\n",
       "<style scoped>\n",
       "    .dataframe tbody tr th:only-of-type {\n",
       "        vertical-align: middle;\n",
       "    }\n",
       "\n",
       "    .dataframe tbody tr th {\n",
       "        vertical-align: top;\n",
       "    }\n",
       "\n",
       "    .dataframe thead th {\n",
       "        text-align: right;\n",
       "    }\n",
       "</style>\n",
       "<table border=\"1\" class=\"dataframe\">\n",
       "  <thead>\n",
       "    <tr style=\"text-align: right;\">\n",
       "      <th></th>\n",
       "      <th>company_permalink</th>\n",
       "      <th>funding_round_permalink</th>\n",
       "      <th>funding_round_type</th>\n",
       "      <th>funding_round_code</th>\n",
       "      <th>funded_at</th>\n",
       "      <th>raised_amount_usd</th>\n",
       "    </tr>\n",
       "  </thead>\n",
       "  <tbody>\n",
       "    <tr>\n",
       "      <th>0</th>\n",
       "      <td>/organization/-fame</td>\n",
       "      <td>/funding-round/9a01d05418af9f794eebff7ace91f638</td>\n",
       "      <td>venture</td>\n",
       "      <td>B</td>\n",
       "      <td>05-01-2015</td>\n",
       "      <td>10000000.000</td>\n",
       "    </tr>\n",
       "    <tr>\n",
       "      <th>1</th>\n",
       "      <td>/ORGANIZATION/-QOUNTER</td>\n",
       "      <td>/funding-round/22dacff496eb7acb2b901dec1dfe5633</td>\n",
       "      <td>venture</td>\n",
       "      <td>A</td>\n",
       "      <td>14-10-2014</td>\n",
       "      <td>nan</td>\n",
       "    </tr>\n",
       "    <tr>\n",
       "      <th>2</th>\n",
       "      <td>/organization/-qounter</td>\n",
       "      <td>/funding-round/b44fbb94153f6cdef13083530bb48030</td>\n",
       "      <td>seed</td>\n",
       "      <td>NaN</td>\n",
       "      <td>01-03-2014</td>\n",
       "      <td>700000.000</td>\n",
       "    </tr>\n",
       "    <tr>\n",
       "      <th>3</th>\n",
       "      <td>/ORGANIZATION/-THE-ONE-OF-THEM-INC-</td>\n",
       "      <td>/funding-round/650b8f704416801069bb178a1418776b</td>\n",
       "      <td>venture</td>\n",
       "      <td>B</td>\n",
       "      <td>30-01-2014</td>\n",
       "      <td>3406878.000</td>\n",
       "    </tr>\n",
       "    <tr>\n",
       "      <th>4</th>\n",
       "      <td>/organization/0-6-com</td>\n",
       "      <td>/funding-round/5727accaeaa57461bd22a9bdd945382d</td>\n",
       "      <td>venture</td>\n",
       "      <td>A</td>\n",
       "      <td>19-03-2008</td>\n",
       "      <td>2000000.000</td>\n",
       "    </tr>\n",
       "  </tbody>\n",
       "</table>\n",
       "</div>"
      ],
      "text/plain": [
       "                     company_permalink  \\\n",
       "0                  /organization/-fame   \n",
       "1               /ORGANIZATION/-QOUNTER   \n",
       "2               /organization/-qounter   \n",
       "3  /ORGANIZATION/-THE-ONE-OF-THEM-INC-   \n",
       "4                /organization/0-6-com   \n",
       "\n",
       "                           funding_round_permalink funding_round_type  \\\n",
       "0  /funding-round/9a01d05418af9f794eebff7ace91f638            venture   \n",
       "1  /funding-round/22dacff496eb7acb2b901dec1dfe5633            venture   \n",
       "2  /funding-round/b44fbb94153f6cdef13083530bb48030               seed   \n",
       "3  /funding-round/650b8f704416801069bb178a1418776b            venture   \n",
       "4  /funding-round/5727accaeaa57461bd22a9bdd945382d            venture   \n",
       "\n",
       "  funding_round_code   funded_at  raised_amount_usd  \n",
       "0                  B  05-01-2015       10000000.000  \n",
       "1                  A  14-10-2014                nan  \n",
       "2                NaN  01-03-2014         700000.000  \n",
       "3                  B  30-01-2014        3406878.000  \n",
       "4                  A  19-03-2008        2000000.000  "
      ]
     },
     "execution_count": 1452,
     "metadata": {},
     "output_type": "execute_result"
    }
   ],
   "source": [
    "## checking if the data is loaded correctly, we can head, tail or sample the dataframe to see the data\n",
    "rounds2.head()"
   ]
  },
  {
   "cell_type": "markdown",
   "metadata": {},
   "source": [
    "### Exploring the data"
   ]
  },
  {
   "cell_type": "code",
   "execution_count": 1453,
   "metadata": {},
   "outputs": [
    {
     "data": {
      "text/plain": [
       "Index(['permalink', 'name', 'homepage_url', 'category_list', 'status',\n",
       "       'country_code', 'state_code', 'region', 'city', 'founded_at'],\n",
       "      dtype='object')"
      ]
     },
     "execution_count": 1453,
     "metadata": {},
     "output_type": "execute_result"
    }
   ],
   "source": [
    "## To check all the columns in the dataframe companies\n",
    "companies.columns"
   ]
  },
  {
   "cell_type": "code",
   "execution_count": 1454,
   "metadata": {},
   "outputs": [
    {
     "data": {
      "text/plain": [
       "permalink        object\n",
       "name             object\n",
       "homepage_url     object\n",
       "category_list    object\n",
       "status           object\n",
       "country_code     object\n",
       "state_code       object\n",
       "region           object\n",
       "city             object\n",
       "founded_at       object\n",
       "dtype: object"
      ]
     },
     "execution_count": 1454,
     "metadata": {},
     "output_type": "execute_result"
    }
   ],
   "source": [
    "## To check the datatypes of all the columns\n",
    "companies.dtypes"
   ]
  },
  {
   "cell_type": "code",
   "execution_count": 1455,
   "metadata": {},
   "outputs": [
    {
     "data": {
      "text/plain": [
       "(66368, 10)"
      ]
     },
     "execution_count": 1455,
     "metadata": {},
     "output_type": "execute_result"
    }
   ],
   "source": [
    "## To get the shape of the dataframe - (rows, columns)\n",
    "companies.shape"
   ]
  },
  {
   "cell_type": "code",
   "execution_count": 1456,
   "metadata": {},
   "outputs": [
    {
     "name": "stdout",
     "output_type": "stream",
     "text": [
      "<class 'pandas.core.frame.DataFrame'>\n",
      "RangeIndex: 66368 entries, 0 to 66367\n",
      "Data columns (total 10 columns):\n",
      " #   Column         Non-Null Count  Dtype \n",
      "---  ------         --------------  ----- \n",
      " 0   permalink      66368 non-null  object\n",
      " 1   name           66367 non-null  object\n",
      " 2   homepage_url   61310 non-null  object\n",
      " 3   category_list  63220 non-null  object\n",
      " 4   status         66368 non-null  object\n",
      " 5   country_code   59410 non-null  object\n",
      " 6   state_code     57821 non-null  object\n",
      " 7   region         58338 non-null  object\n",
      " 8   city           58340 non-null  object\n",
      " 9   founded_at     51147 non-null  object\n",
      "dtypes: object(10)\n",
      "memory usage: 5.1+ MB\n"
     ]
    }
   ],
   "source": [
    "### Inspecting data\n",
    "## Detailed information about the dataframe\n",
    "companies.info()"
   ]
  },
  {
   "cell_type": "code",
   "execution_count": 1457,
   "metadata": {},
   "outputs": [
    {
     "data": {
      "text/html": [
       "<div>\n",
       "<style scoped>\n",
       "    .dataframe tbody tr th:only-of-type {\n",
       "        vertical-align: middle;\n",
       "    }\n",
       "\n",
       "    .dataframe tbody tr th {\n",
       "        vertical-align: top;\n",
       "    }\n",
       "\n",
       "    .dataframe thead th {\n",
       "        text-align: right;\n",
       "    }\n",
       "</style>\n",
       "<table border=\"1\" class=\"dataframe\">\n",
       "  <thead>\n",
       "    <tr style=\"text-align: right;\">\n",
       "      <th></th>\n",
       "      <th>permalink</th>\n",
       "      <th>name</th>\n",
       "      <th>homepage_url</th>\n",
       "      <th>category_list</th>\n",
       "      <th>status</th>\n",
       "      <th>country_code</th>\n",
       "      <th>state_code</th>\n",
       "      <th>region</th>\n",
       "      <th>city</th>\n",
       "      <th>founded_at</th>\n",
       "    </tr>\n",
       "  </thead>\n",
       "  <tbody>\n",
       "    <tr>\n",
       "      <th>count</th>\n",
       "      <td>66368</td>\n",
       "      <td>66367</td>\n",
       "      <td>61310</td>\n",
       "      <td>63220</td>\n",
       "      <td>66368</td>\n",
       "      <td>59410</td>\n",
       "      <td>57821</td>\n",
       "      <td>58338</td>\n",
       "      <td>58340</td>\n",
       "      <td>51147</td>\n",
       "    </tr>\n",
       "    <tr>\n",
       "      <th>unique</th>\n",
       "      <td>66368</td>\n",
       "      <td>66099</td>\n",
       "      <td>61191</td>\n",
       "      <td>27296</td>\n",
       "      <td>4</td>\n",
       "      <td>137</td>\n",
       "      <td>311</td>\n",
       "      <td>1092</td>\n",
       "      <td>5111</td>\n",
       "      <td>3978</td>\n",
       "    </tr>\n",
       "    <tr>\n",
       "      <th>top</th>\n",
       "      <td>/Organization/Ctc-Technical-Fabrics</td>\n",
       "      <td>Karma</td>\n",
       "      <td>http://www.askforoffer.com</td>\n",
       "      <td>Software</td>\n",
       "      <td>operating</td>\n",
       "      <td>USA</td>\n",
       "      <td>CA</td>\n",
       "      <td>SF Bay Area</td>\n",
       "      <td>San Francisco</td>\n",
       "      <td>01-01-2012</td>\n",
       "    </tr>\n",
       "    <tr>\n",
       "      <th>freq</th>\n",
       "      <td>1</td>\n",
       "      <td>4</td>\n",
       "      <td>5</td>\n",
       "      <td>3995</td>\n",
       "      <td>53034</td>\n",
       "      <td>37601</td>\n",
       "      <td>12900</td>\n",
       "      <td>8804</td>\n",
       "      <td>3526</td>\n",
       "      <td>2730</td>\n",
       "    </tr>\n",
       "  </tbody>\n",
       "</table>\n",
       "</div>"
      ],
      "text/plain": [
       "                                  permalink   name  \\\n",
       "count                                 66368  66367   \n",
       "unique                                66368  66099   \n",
       "top     /Organization/Ctc-Technical-Fabrics  Karma   \n",
       "freq                                      1      4   \n",
       "\n",
       "                      homepage_url category_list     status country_code  \\\n",
       "count                        61310         63220      66368        59410   \n",
       "unique                       61191         27296          4          137   \n",
       "top     http://www.askforoffer.com      Software  operating          USA   \n",
       "freq                             5          3995      53034        37601   \n",
       "\n",
       "       state_code       region           city  founded_at  \n",
       "count       57821        58338          58340       51147  \n",
       "unique        311         1092           5111        3978  \n",
       "top            CA  SF Bay Area  San Francisco  01-01-2012  \n",
       "freq        12900         8804           3526        2730  "
      ]
     },
     "execution_count": 1457,
     "metadata": {},
     "output_type": "execute_result"
    }
   ],
   "source": [
    "## describing the dataframe to get some more insights\n",
    "companies.describe()\n",
    "\n",
    "## We can see that some measures(mean,std,percetiles,etc) are not present when we are describing the dataframe\n",
    "# It's because all the columns are object type"
   ]
  },
  {
   "cell_type": "code",
   "execution_count": 1458,
   "metadata": {},
   "outputs": [],
   "source": [
    "## Changing the permalink and name columns to lower case to bring standardisation\n",
    "companies['permalink'] = companies['permalink'].str.strip().str.lower()\n",
    "\n",
    "companies['name'] = companies['name'].str.strip().str.lower()"
   ]
  },
  {
   "cell_type": "code",
   "execution_count": 1459,
   "metadata": {},
   "outputs": [
    {
     "data": {
      "text/plain": [
       "roost                       4\n",
       "peach                       4\n",
       "shift                       4\n",
       "blink                       4\n",
       "#name?                      4\n",
       "                           ..\n",
       "srch2                       1\n",
       "inteliwise usa              1\n",
       "scarecrow visual effects    1\n",
       "key ring                    1\n",
       "scale8                      1\n",
       "Name: name, Length: 66034, dtype: int64"
      ]
     },
     "execution_count": 1459,
     "metadata": {},
     "output_type": "execute_result"
    }
   ],
   "source": [
    "## Trying to find if column 'permalink' is best measure to identify the uniqueness vs column 'name'\n",
    "companies.name.value_counts()"
   ]
  },
  {
   "cell_type": "code",
   "execution_count": 1460,
   "metadata": {},
   "outputs": [
    {
     "data": {
      "text/html": [
       "<div>\n",
       "<style scoped>\n",
       "    .dataframe tbody tr th:only-of-type {\n",
       "        vertical-align: middle;\n",
       "    }\n",
       "\n",
       "    .dataframe tbody tr th {\n",
       "        vertical-align: top;\n",
       "    }\n",
       "\n",
       "    .dataframe thead th {\n",
       "        text-align: right;\n",
       "    }\n",
       "</style>\n",
       "<table border=\"1\" class=\"dataframe\">\n",
       "  <thead>\n",
       "    <tr style=\"text-align: right;\">\n",
       "      <th></th>\n",
       "      <th>permalink</th>\n",
       "      <th>name</th>\n",
       "      <th>homepage_url</th>\n",
       "      <th>category_list</th>\n",
       "      <th>status</th>\n",
       "      <th>country_code</th>\n",
       "      <th>state_code</th>\n",
       "      <th>region</th>\n",
       "      <th>city</th>\n",
       "      <th>founded_at</th>\n",
       "    </tr>\n",
       "  </thead>\n",
       "  <tbody>\n",
       "    <tr>\n",
       "      <th>30215</th>\n",
       "      <td>/organization/karma</td>\n",
       "      <td>karma</td>\n",
       "      <td>http://getkarma.com</td>\n",
       "      <td>Mobile</td>\n",
       "      <td>acquired</td>\n",
       "      <td>USA</td>\n",
       "      <td>CA</td>\n",
       "      <td>SF Bay Area</td>\n",
       "      <td>San Francisco</td>\n",
       "      <td>01-01-2011</td>\n",
       "    </tr>\n",
       "    <tr>\n",
       "      <th>30216</th>\n",
       "      <td>/organization/karma-2</td>\n",
       "      <td>karma</td>\n",
       "      <td>http://yourkarma.com</td>\n",
       "      <td>Internet Service Providers|Mobile|Telecommunic...</td>\n",
       "      <td>operating</td>\n",
       "      <td>USA</td>\n",
       "      <td>NY</td>\n",
       "      <td>New York City</td>\n",
       "      <td>New York</td>\n",
       "      <td>18-01-2012</td>\n",
       "    </tr>\n",
       "    <tr>\n",
       "      <th>30217</th>\n",
       "      <td>/organization/karma-5</td>\n",
       "      <td>karma</td>\n",
       "      <td>https://karma.wiki/</td>\n",
       "      <td>Media|Social Network Media|Technology</td>\n",
       "      <td>operating</td>\n",
       "      <td>NaN</td>\n",
       "      <td>NaN</td>\n",
       "      <td>NaN</td>\n",
       "      <td>NaN</td>\n",
       "      <td>NaN</td>\n",
       "    </tr>\n",
       "    <tr>\n",
       "      <th>30219</th>\n",
       "      <td>/organization/karma-labs</td>\n",
       "      <td>karma</td>\n",
       "      <td>http://havekarma.com</td>\n",
       "      <td>Collaborative Consumption|Reputation</td>\n",
       "      <td>operating</td>\n",
       "      <td>USA</td>\n",
       "      <td>CA</td>\n",
       "      <td>Los Angeles</td>\n",
       "      <td>Los Angeles</td>\n",
       "      <td>01-04-2013</td>\n",
       "    </tr>\n",
       "    <tr>\n",
       "      <th>42684</th>\n",
       "      <td>/organization/peach</td>\n",
       "      <td>peach</td>\n",
       "      <td>http://peachunderneath.com</td>\n",
       "      <td>Fashion</td>\n",
       "      <td>operating</td>\n",
       "      <td>USA</td>\n",
       "      <td>MA</td>\n",
       "      <td>Boston</td>\n",
       "      <td>Cambridge</td>\n",
       "      <td>NaN</td>\n",
       "    </tr>\n",
       "    <tr>\n",
       "      <th>42685</th>\n",
       "      <td>/organization/peach-2</td>\n",
       "      <td>peach</td>\n",
       "      <td>http://peachapp.com/</td>\n",
       "      <td>Apps|Fashion|Online Auctions</td>\n",
       "      <td>operating</td>\n",
       "      <td>USA</td>\n",
       "      <td>CA</td>\n",
       "      <td>SF Bay Area</td>\n",
       "      <td>Berkeley</td>\n",
       "      <td>19-10-2014</td>\n",
       "    </tr>\n",
       "    <tr>\n",
       "      <th>42686</th>\n",
       "      <td>/organization/peach-labs</td>\n",
       "      <td>peach</td>\n",
       "      <td>https://www.peachd.com/</td>\n",
       "      <td>Delivery|Location Based Services|Restaurants</td>\n",
       "      <td>operating</td>\n",
       "      <td>USA</td>\n",
       "      <td>WA</td>\n",
       "      <td>Seattle</td>\n",
       "      <td>Seattle</td>\n",
       "      <td>20-06-2014</td>\n",
       "    </tr>\n",
       "    <tr>\n",
       "      <th>42690</th>\n",
       "      <td>/organization/peachme</td>\n",
       "      <td>peach</td>\n",
       "      <td>http://www.joinpeach.com</td>\n",
       "      <td>Financial Services|Insurance|Software</td>\n",
       "      <td>operating</td>\n",
       "      <td>USA</td>\n",
       "      <td>MD</td>\n",
       "      <td>Baltimore</td>\n",
       "      <td>Baltimore</td>\n",
       "      <td>01-04-2013</td>\n",
       "    </tr>\n",
       "  </tbody>\n",
       "</table>\n",
       "</div>"
      ],
      "text/plain": [
       "                      permalink   name                homepage_url  \\\n",
       "30215       /organization/karma  karma         http://getkarma.com   \n",
       "30216     /organization/karma-2  karma        http://yourkarma.com   \n",
       "30217     /organization/karma-5  karma         https://karma.wiki/   \n",
       "30219  /organization/karma-labs  karma        http://havekarma.com   \n",
       "42684       /organization/peach  peach  http://peachunderneath.com   \n",
       "42685     /organization/peach-2  peach        http://peachapp.com/   \n",
       "42686  /organization/peach-labs  peach     https://www.peachd.com/   \n",
       "42690     /organization/peachme  peach    http://www.joinpeach.com   \n",
       "\n",
       "                                           category_list     status  \\\n",
       "30215                                             Mobile   acquired   \n",
       "30216  Internet Service Providers|Mobile|Telecommunic...  operating   \n",
       "30217              Media|Social Network Media|Technology  operating   \n",
       "30219               Collaborative Consumption|Reputation  operating   \n",
       "42684                                            Fashion  operating   \n",
       "42685                       Apps|Fashion|Online Auctions  operating   \n",
       "42686       Delivery|Location Based Services|Restaurants  operating   \n",
       "42690              Financial Services|Insurance|Software  operating   \n",
       "\n",
       "      country_code state_code         region           city  founded_at  \n",
       "30215          USA         CA    SF Bay Area  San Francisco  01-01-2011  \n",
       "30216          USA         NY  New York City       New York  18-01-2012  \n",
       "30217          NaN        NaN            NaN            NaN         NaN  \n",
       "30219          USA         CA    Los Angeles    Los Angeles  01-04-2013  \n",
       "42684          USA         MA         Boston      Cambridge         NaN  \n",
       "42685          USA         CA    SF Bay Area       Berkeley  19-10-2014  \n",
       "42686          USA         WA        Seattle        Seattle  20-06-2014  \n",
       "42690          USA         MD      Baltimore      Baltimore  01-04-2013  "
      ]
     },
     "execution_count": 1460,
     "metadata": {},
     "output_type": "execute_result"
    }
   ],
   "source": [
    "### ANSWER - Table 1.1 SL. No.3\n",
    "## It looks like column 'permalink' is best measure to identify the uniqueness as it has the unique values\n",
    "companies[companies.name.isin(['karma','peach'])]"
   ]
  },
  {
   "cell_type": "code",
   "execution_count": 1461,
   "metadata": {},
   "outputs": [
    {
     "data": {
      "text/plain": [
       "Index(['company_permalink', 'funding_round_permalink', 'funding_round_type',\n",
       "       'funding_round_code', 'funded_at', 'raised_amount_usd'],\n",
       "      dtype='object')"
      ]
     },
     "execution_count": 1461,
     "metadata": {},
     "output_type": "execute_result"
    }
   ],
   "source": [
    "## To check all the columns in the dataframe rounds2\n",
    "rounds2.columns"
   ]
  },
  {
   "cell_type": "code",
   "execution_count": 1462,
   "metadata": {},
   "outputs": [
    {
     "data": {
      "text/plain": [
       "company_permalink           object\n",
       "funding_round_permalink     object\n",
       "funding_round_type          object\n",
       "funding_round_code          object\n",
       "funded_at                   object\n",
       "raised_amount_usd          float64\n",
       "dtype: object"
      ]
     },
     "execution_count": 1462,
     "metadata": {},
     "output_type": "execute_result"
    }
   ],
   "source": [
    "## To check the datatypes of all the columns\n",
    "rounds2.dtypes"
   ]
  },
  {
   "cell_type": "code",
   "execution_count": 1463,
   "metadata": {},
   "outputs": [
    {
     "data": {
      "text/plain": [
       "(114949, 6)"
      ]
     },
     "execution_count": 1463,
     "metadata": {},
     "output_type": "execute_result"
    }
   ],
   "source": [
    "## To get the shape of the dataframe - (rows, columns)\n",
    "rounds2.shape"
   ]
  },
  {
   "cell_type": "code",
   "execution_count": 1464,
   "metadata": {},
   "outputs": [
    {
     "name": "stdout",
     "output_type": "stream",
     "text": [
      "<class 'pandas.core.frame.DataFrame'>\n",
      "RangeIndex: 114949 entries, 0 to 114948\n",
      "Data columns (total 6 columns):\n",
      " #   Column                   Non-Null Count   Dtype  \n",
      "---  ------                   --------------   -----  \n",
      " 0   company_permalink        114949 non-null  object \n",
      " 1   funding_round_permalink  114949 non-null  object \n",
      " 2   funding_round_type       114949 non-null  object \n",
      " 3   funding_round_code       31140 non-null   object \n",
      " 4   funded_at                114949 non-null  object \n",
      " 5   raised_amount_usd        94959 non-null   float64\n",
      "dtypes: float64(1), object(5)\n",
      "memory usage: 5.3+ MB\n"
     ]
    }
   ],
   "source": [
    "### Inspecting data\n",
    "## To get the shape of the dataframe - (rows, columns)\n",
    "rounds2.info()"
   ]
  },
  {
   "cell_type": "code",
   "execution_count": 1465,
   "metadata": {},
   "outputs": [
    {
     "data": {
      "text/html": [
       "<div>\n",
       "<style scoped>\n",
       "    .dataframe tbody tr th:only-of-type {\n",
       "        vertical-align: middle;\n",
       "    }\n",
       "\n",
       "    .dataframe tbody tr th {\n",
       "        vertical-align: top;\n",
       "    }\n",
       "\n",
       "    .dataframe thead th {\n",
       "        text-align: right;\n",
       "    }\n",
       "</style>\n",
       "<table border=\"1\" class=\"dataframe\">\n",
       "  <thead>\n",
       "    <tr style=\"text-align: right;\">\n",
       "      <th></th>\n",
       "      <th>raised_amount_usd</th>\n",
       "    </tr>\n",
       "  </thead>\n",
       "  <tbody>\n",
       "    <tr>\n",
       "      <th>count</th>\n",
       "      <td>94959.000</td>\n",
       "    </tr>\n",
       "    <tr>\n",
       "      <th>mean</th>\n",
       "      <td>10426869.335</td>\n",
       "    </tr>\n",
       "    <tr>\n",
       "      <th>std</th>\n",
       "      <td>114821247.985</td>\n",
       "    </tr>\n",
       "    <tr>\n",
       "      <th>min</th>\n",
       "      <td>0.000</td>\n",
       "    </tr>\n",
       "    <tr>\n",
       "      <th>25%</th>\n",
       "      <td>322500.000</td>\n",
       "    </tr>\n",
       "    <tr>\n",
       "      <th>50%</th>\n",
       "      <td>1680511.000</td>\n",
       "    </tr>\n",
       "    <tr>\n",
       "      <th>75%</th>\n",
       "      <td>7000000.000</td>\n",
       "    </tr>\n",
       "    <tr>\n",
       "      <th>max</th>\n",
       "      <td>21271935000.000</td>\n",
       "    </tr>\n",
       "  </tbody>\n",
       "</table>\n",
       "</div>"
      ],
      "text/plain": [
       "       raised_amount_usd\n",
       "count          94959.000\n",
       "mean        10426869.335\n",
       "std        114821247.985\n",
       "min                0.000\n",
       "25%           322500.000\n",
       "50%          1680511.000\n",
       "75%          7000000.000\n",
       "max      21271935000.000"
      ]
     },
     "execution_count": 1465,
     "metadata": {},
     "output_type": "execute_result"
    }
   ],
   "source": [
    "## describing the dataframe to get some more insights\n",
    "rounds2.describe()"
   ]
  },
  {
   "cell_type": "code",
   "execution_count": 1466,
   "metadata": {},
   "outputs": [],
   "source": [
    "## Changing the column company permalink to lowercase to check the unique companies and to bring standardisation\n",
    "rounds2['company_permalink']= rounds2['company_permalink'].str.strip().str.lower() "
   ]
  },
  {
   "cell_type": "markdown",
   "metadata": {},
   "source": [
    "### Table 1.1 Answers"
   ]
  },
  {
   "cell_type": "code",
   "execution_count": 1467,
   "metadata": {},
   "outputs": [
    {
     "data": {
      "text/plain": [
       "66368"
      ]
     },
     "execution_count": 1467,
     "metadata": {},
     "output_type": "execute_result"
    }
   ],
   "source": [
    "### ANSWER - Table 1.1 SL. No.1\n",
    "## finding the unique count of unique companies in rounds2 dataframe\n",
    "len(rounds2['company_permalink'].unique())"
   ]
  },
  {
   "cell_type": "code",
   "execution_count": 1468,
   "metadata": {},
   "outputs": [
    {
     "data": {
      "text/plain": [
       "66368"
      ]
     },
     "execution_count": 1468,
     "metadata": {},
     "output_type": "execute_result"
    }
   ],
   "source": [
    "### ANSWER - Table 1.1 SL. No.2\n",
    "## finding unique count of comapnies in companies dataframe\n",
    "len(companies['permalink'].unique())"
   ]
  },
  {
   "cell_type": "code",
   "execution_count": 1469,
   "metadata": {},
   "outputs": [
    {
     "data": {
      "text/plain": [
       "0                                      /organization/-fame\n",
       "1                                   /organization/-qounter\n",
       "2                      /organization/-the-one-of-them-inc-\n",
       "3                                    /organization/0-6-com\n",
       "4                           /organization/004-technologies\n",
       "                               ...                        \n",
       "66363    /organization/zznode-science-and-technology-co...\n",
       "66364                            /organization/zzzzapp-com\n",
       "66365                                   /organization/eron\n",
       "66366                                 /organization/asys-2\n",
       "66367    /organization/novatiff-reklam-ve-tantm-hizmetl...\n",
       "Name: permalink, Length: 66368, dtype: object"
      ]
     },
     "execution_count": 1469,
     "metadata": {},
     "output_type": "execute_result"
    }
   ],
   "source": [
    "### ANSWER - Table 1.1 SL. No.3\n",
    "## Unique column in companies dataframe which can be used as unique key\n",
    "companies['permalink']"
   ]
  },
  {
   "cell_type": "code",
   "execution_count": 1470,
   "metadata": {},
   "outputs": [],
   "source": [
    "### ANSWER - Table 1.1 SL. No.4\n",
    "## Using full outer join to determine if there are companies in rounds2 dataframe which is not present \n",
    "# in companies dataframe\n",
    "Merge_frame = rounds2.merge(companies, right_on='permalink', left_on='company_permalink',\\\n",
    "                how='outer', suffixes=('_companies', '_rounds2'))"
   ]
  },
  {
   "cell_type": "code",
   "execution_count": 1471,
   "metadata": {},
   "outputs": [
    {
     "data": {
      "text/html": [
       "<div>\n",
       "<style scoped>\n",
       "    .dataframe tbody tr th:only-of-type {\n",
       "        vertical-align: middle;\n",
       "    }\n",
       "\n",
       "    .dataframe tbody tr th {\n",
       "        vertical-align: top;\n",
       "    }\n",
       "\n",
       "    .dataframe thead th {\n",
       "        text-align: right;\n",
       "    }\n",
       "</style>\n",
       "<table border=\"1\" class=\"dataframe\">\n",
       "  <thead>\n",
       "    <tr style=\"text-align: right;\">\n",
       "      <th></th>\n",
       "      <th>company_permalink</th>\n",
       "      <th>funding_round_permalink</th>\n",
       "      <th>funding_round_type</th>\n",
       "      <th>funding_round_code</th>\n",
       "      <th>funded_at</th>\n",
       "      <th>raised_amount_usd</th>\n",
       "      <th>permalink</th>\n",
       "      <th>name</th>\n",
       "      <th>homepage_url</th>\n",
       "      <th>category_list</th>\n",
       "      <th>status</th>\n",
       "      <th>country_code</th>\n",
       "      <th>state_code</th>\n",
       "      <th>region</th>\n",
       "      <th>city</th>\n",
       "      <th>founded_at</th>\n",
       "    </tr>\n",
       "  </thead>\n",
       "  <tbody>\n",
       "  </tbody>\n",
       "</table>\n",
       "</div>"
      ],
      "text/plain": [
       "Empty DataFrame\n",
       "Columns: [company_permalink, funding_round_permalink, funding_round_type, funding_round_code, funded_at, raised_amount_usd, permalink, name, homepage_url, category_list, status, country_code, state_code, region, city, founded_at]\n",
       "Index: []"
      ]
     },
     "execution_count": 1471,
     "metadata": {},
     "output_type": "execute_result"
    }
   ],
   "source": [
    "## Answer is NO, I cannot see any company which is present in rounds2 but not in companies\n",
    "Merge_frame[(Merge_frame['permalink'].isnull())].head(5)"
   ]
  },
  {
   "cell_type": "code",
   "execution_count": 1472,
   "metadata": {},
   "outputs": [
    {
     "data": {
      "text/plain": [
       "set()"
      ]
     },
     "execution_count": 1472,
     "metadata": {},
     "output_type": "execute_result"
    }
   ],
   "source": [
    "## Trying to analyze the companies difference in both the columns using set\n",
    "set(rounds2['company_permalink']).difference(set(companies['permalink']))"
   ]
  },
  {
   "cell_type": "code",
   "execution_count": 1473,
   "metadata": {},
   "outputs": [],
   "source": [
    "### ANSWER - Table 1.1 SL. No.5\n",
    "## merging the dataframe to make master_frame\n",
    "master_frame = rounds2.merge(companies, right_on='permalink', left_on='company_permalink',\\\n",
    "                how='left', suffixes=('_rounds2', '_companies'))"
   ]
  },
  {
   "cell_type": "code",
   "execution_count": 1474,
   "metadata": {},
   "outputs": [
    {
     "data": {
      "text/plain": [
       "(114949, 16)"
      ]
     },
     "execution_count": 1474,
     "metadata": {},
     "output_type": "execute_result"
    }
   ],
   "source": [
    "### ANSWER - Table 1.1 SL. No.5 - Continued\n",
    "master_frame.shape"
   ]
  },
  {
   "cell_type": "code",
   "execution_count": 1475,
   "metadata": {},
   "outputs": [
    {
     "data": {
      "text/html": [
       "<div>\n",
       "<style scoped>\n",
       "    .dataframe tbody tr th:only-of-type {\n",
       "        vertical-align: middle;\n",
       "    }\n",
       "\n",
       "    .dataframe tbody tr th {\n",
       "        vertical-align: top;\n",
       "    }\n",
       "\n",
       "    .dataframe thead th {\n",
       "        text-align: right;\n",
       "    }\n",
       "</style>\n",
       "<table border=\"1\" class=\"dataframe\">\n",
       "  <thead>\n",
       "    <tr style=\"text-align: right;\">\n",
       "      <th></th>\n",
       "      <th>company_permalink</th>\n",
       "      <th>funding_round_permalink</th>\n",
       "      <th>funding_round_type</th>\n",
       "      <th>funding_round_code</th>\n",
       "      <th>funded_at</th>\n",
       "      <th>raised_amount_usd</th>\n",
       "      <th>permalink</th>\n",
       "      <th>name</th>\n",
       "      <th>homepage_url</th>\n",
       "      <th>category_list</th>\n",
       "      <th>status</th>\n",
       "      <th>country_code</th>\n",
       "      <th>state_code</th>\n",
       "      <th>region</th>\n",
       "      <th>city</th>\n",
       "      <th>founded_at</th>\n",
       "    </tr>\n",
       "  </thead>\n",
       "  <tbody>\n",
       "    <tr>\n",
       "      <th>0</th>\n",
       "      <td>/organization/-fame</td>\n",
       "      <td>/funding-round/9a01d05418af9f794eebff7ace91f638</td>\n",
       "      <td>venture</td>\n",
       "      <td>B</td>\n",
       "      <td>05-01-2015</td>\n",
       "      <td>10000000.000</td>\n",
       "      <td>/organization/-fame</td>\n",
       "      <td>#fame</td>\n",
       "      <td>http://livfame.com</td>\n",
       "      <td>Media</td>\n",
       "      <td>operating</td>\n",
       "      <td>IND</td>\n",
       "      <td>16</td>\n",
       "      <td>Mumbai</td>\n",
       "      <td>Mumbai</td>\n",
       "      <td>NaN</td>\n",
       "    </tr>\n",
       "    <tr>\n",
       "      <th>1</th>\n",
       "      <td>/organization/-qounter</td>\n",
       "      <td>/funding-round/22dacff496eb7acb2b901dec1dfe5633</td>\n",
       "      <td>venture</td>\n",
       "      <td>A</td>\n",
       "      <td>14-10-2014</td>\n",
       "      <td>nan</td>\n",
       "      <td>/organization/-qounter</td>\n",
       "      <td>:qounter</td>\n",
       "      <td>http://www.qounter.com</td>\n",
       "      <td>Application Platforms|Real Time|Social Network...</td>\n",
       "      <td>operating</td>\n",
       "      <td>USA</td>\n",
       "      <td>DE</td>\n",
       "      <td>DE - Other</td>\n",
       "      <td>Delaware City</td>\n",
       "      <td>04-09-2014</td>\n",
       "    </tr>\n",
       "    <tr>\n",
       "      <th>2</th>\n",
       "      <td>/organization/-qounter</td>\n",
       "      <td>/funding-round/b44fbb94153f6cdef13083530bb48030</td>\n",
       "      <td>seed</td>\n",
       "      <td>NaN</td>\n",
       "      <td>01-03-2014</td>\n",
       "      <td>700000.000</td>\n",
       "      <td>/organization/-qounter</td>\n",
       "      <td>:qounter</td>\n",
       "      <td>http://www.qounter.com</td>\n",
       "      <td>Application Platforms|Real Time|Social Network...</td>\n",
       "      <td>operating</td>\n",
       "      <td>USA</td>\n",
       "      <td>DE</td>\n",
       "      <td>DE - Other</td>\n",
       "      <td>Delaware City</td>\n",
       "      <td>04-09-2014</td>\n",
       "    </tr>\n",
       "    <tr>\n",
       "      <th>3</th>\n",
       "      <td>/organization/-the-one-of-them-inc-</td>\n",
       "      <td>/funding-round/650b8f704416801069bb178a1418776b</td>\n",
       "      <td>venture</td>\n",
       "      <td>B</td>\n",
       "      <td>30-01-2014</td>\n",
       "      <td>3406878.000</td>\n",
       "      <td>/organization/-the-one-of-them-inc-</td>\n",
       "      <td>(the) one of them,inc.</td>\n",
       "      <td>http://oneofthem.jp</td>\n",
       "      <td>Apps|Games|Mobile</td>\n",
       "      <td>operating</td>\n",
       "      <td>NaN</td>\n",
       "      <td>NaN</td>\n",
       "      <td>NaN</td>\n",
       "      <td>NaN</td>\n",
       "      <td>NaN</td>\n",
       "    </tr>\n",
       "    <tr>\n",
       "      <th>4</th>\n",
       "      <td>/organization/0-6-com</td>\n",
       "      <td>/funding-round/5727accaeaa57461bd22a9bdd945382d</td>\n",
       "      <td>venture</td>\n",
       "      <td>A</td>\n",
       "      <td>19-03-2008</td>\n",
       "      <td>2000000.000</td>\n",
       "      <td>/organization/0-6-com</td>\n",
       "      <td>0-6.com</td>\n",
       "      <td>http://www.0-6.com</td>\n",
       "      <td>Curated Web</td>\n",
       "      <td>operating</td>\n",
       "      <td>CHN</td>\n",
       "      <td>22</td>\n",
       "      <td>Beijing</td>\n",
       "      <td>Beijing</td>\n",
       "      <td>01-01-2007</td>\n",
       "    </tr>\n",
       "  </tbody>\n",
       "</table>\n",
       "</div>"
      ],
      "text/plain": [
       "                     company_permalink  \\\n",
       "0                  /organization/-fame   \n",
       "1               /organization/-qounter   \n",
       "2               /organization/-qounter   \n",
       "3  /organization/-the-one-of-them-inc-   \n",
       "4                /organization/0-6-com   \n",
       "\n",
       "                           funding_round_permalink funding_round_type  \\\n",
       "0  /funding-round/9a01d05418af9f794eebff7ace91f638            venture   \n",
       "1  /funding-round/22dacff496eb7acb2b901dec1dfe5633            venture   \n",
       "2  /funding-round/b44fbb94153f6cdef13083530bb48030               seed   \n",
       "3  /funding-round/650b8f704416801069bb178a1418776b            venture   \n",
       "4  /funding-round/5727accaeaa57461bd22a9bdd945382d            venture   \n",
       "\n",
       "  funding_round_code   funded_at  raised_amount_usd  \\\n",
       "0                  B  05-01-2015       10000000.000   \n",
       "1                  A  14-10-2014                nan   \n",
       "2                NaN  01-03-2014         700000.000   \n",
       "3                  B  30-01-2014        3406878.000   \n",
       "4                  A  19-03-2008        2000000.000   \n",
       "\n",
       "                             permalink                    name  \\\n",
       "0                  /organization/-fame                   #fame   \n",
       "1               /organization/-qounter                :qounter   \n",
       "2               /organization/-qounter                :qounter   \n",
       "3  /organization/-the-one-of-them-inc-  (the) one of them,inc.   \n",
       "4                /organization/0-6-com                 0-6.com   \n",
       "\n",
       "             homepage_url                                      category_list  \\\n",
       "0      http://livfame.com                                              Media   \n",
       "1  http://www.qounter.com  Application Platforms|Real Time|Social Network...   \n",
       "2  http://www.qounter.com  Application Platforms|Real Time|Social Network...   \n",
       "3     http://oneofthem.jp                                  Apps|Games|Mobile   \n",
       "4      http://www.0-6.com                                        Curated Web   \n",
       "\n",
       "      status country_code state_code      region           city  founded_at  \n",
       "0  operating          IND         16      Mumbai         Mumbai         NaN  \n",
       "1  operating          USA         DE  DE - Other  Delaware City  04-09-2014  \n",
       "2  operating          USA         DE  DE - Other  Delaware City  04-09-2014  \n",
       "3  operating          NaN        NaN         NaN            NaN         NaN  \n",
       "4  operating          CHN         22     Beijing        Beijing  01-01-2007  "
      ]
     },
     "execution_count": 1475,
     "metadata": {},
     "output_type": "execute_result"
    }
   ],
   "source": [
    "master_frame.head()"
   ]
  },
  {
   "cell_type": "code",
   "execution_count": 1476,
   "metadata": {},
   "outputs": [
    {
     "data": {
      "text/plain": [
       "array(['venture', 'seed', 'undisclosed', 'equity_crowdfunding',\n",
       "       'convertible_note', 'private_equity', 'debt_financing', 'angel',\n",
       "       'grant', 'secondary_market', 'post_ipo_equity', 'post_ipo_debt',\n",
       "       'product_crowdfunding', 'non_equity_assistance'], dtype=object)"
      ]
     },
     "execution_count": 1476,
     "metadata": {},
     "output_type": "execute_result"
    }
   ],
   "source": [
    "master_frame['funding_round_type'].unique()"
   ]
  },
  {
   "cell_type": "markdown",
   "metadata": {},
   "source": [
    "# Checkpoint 2: Funding Type Analysis"
   ]
  },
  {
   "cell_type": "code",
   "execution_count": 1477,
   "metadata": {},
   "outputs": [],
   "source": [
    "## setting pandas options to display full numerical values (instead of e) upto 2 decimal points\n",
    "pd.set_option('display.float_format', lambda x: '%.3f' % x)"
   ]
  },
  {
   "cell_type": "code",
   "execution_count": 1478,
   "metadata": {},
   "outputs": [
    {
     "data": {
      "text/plain": [
       "(114949, 16)"
      ]
     },
     "execution_count": 1478,
     "metadata": {},
     "output_type": "execute_result"
    }
   ],
   "source": [
    "## checking the shape before removing all except 4 'angel','seed','venture', 'private_equity' funding types\n",
    "master_frame.shape"
   ]
  },
  {
   "cell_type": "markdown",
   "metadata": {},
   "source": [
    "#### Keeping only required 4 'angel','seed','venture', 'private_equity' funding types in the master dataframe"
   ]
  },
  {
   "cell_type": "code",
   "execution_count": 1479,
   "metadata": {},
   "outputs": [],
   "source": [
    "master_frame = master_frame[master_frame['funding_round_type'].isin(['angel','seed','venture', 'private_equity'])]"
   ]
  },
  {
   "cell_type": "code",
   "execution_count": 1480,
   "metadata": {},
   "outputs": [
    {
     "data": {
      "text/plain": [
       "(94397, 16)"
      ]
     },
     "execution_count": 1480,
     "metadata": {},
     "output_type": "execute_result"
    }
   ],
   "source": [
    "## checking the shape after removing all except 4 'angel','seed','venture', 'private_equity' funding types\n",
    "master_frame.shape"
   ]
  },
  {
   "cell_type": "markdown",
   "metadata": {},
   "source": [
    "#### Analyzing the records where raised_amount_usd column has null value"
   ]
  },
  {
   "cell_type": "code",
   "execution_count": 1481,
   "metadata": {},
   "outputs": [
    {
     "data": {
      "text/plain": [
       "False   85.413\n",
       "True    14.587\n",
       "Name: raised_amount_usd, dtype: float64"
      ]
     },
     "execution_count": 1481,
     "metadata": {},
     "output_type": "execute_result"
    }
   ],
   "source": [
    "master_frame['raised_amount_usd'].isnull().value_counts(normalize=True)*100"
   ]
  },
  {
   "cell_type": "markdown",
   "metadata": {},
   "source": [
    "#### Analyzing the records where country code column has null value"
   ]
  },
  {
   "cell_type": "code",
   "execution_count": 1482,
   "metadata": {},
   "outputs": [
    {
     "data": {
      "text/plain": [
       "False   92.244\n",
       "True     7.756\n",
       "Name: country_code, dtype: float64"
      ]
     },
     "execution_count": 1482,
     "metadata": {},
     "output_type": "execute_result"
    }
   ],
   "source": [
    "master_frame['country_code'].isnull().value_counts(normalize=True)*100"
   ]
  },
  {
   "cell_type": "markdown",
   "metadata": {},
   "source": [
    "#### Removing the rows where raised_amount_usd and country code columns have null value"
   ]
  },
  {
   "cell_type": "code",
   "execution_count": 1483,
   "metadata": {},
   "outputs": [],
   "source": [
    "master_frame = master_frame[master_frame['raised_amount_usd'].notnull()]\n",
    "master_frame = master_frame[master_frame['country_code'].notnull()]\n",
    "\n",
    "## since we want to analyze invested amount in millions, it's better to convert it to millions\n",
    "master_frame['raised_amount_usd'] = master_frame['raised_amount_usd'].apply(lambda x : x/10**6)\n",
    "\n",
    "## adding million with the raise_amount_usd column to avoid confusion\n",
    "master_frame = master_frame.rename(columns = {'raised_amount_usd' :'raised_amount_usd_million'})"
   ]
  },
  {
   "cell_type": "code",
   "execution_count": 1484,
   "metadata": {},
   "outputs": [
    {
     "data": {
      "text/plain": [
       "(75606, 16)"
      ]
     },
     "execution_count": 1484,
     "metadata": {},
     "output_type": "execute_result"
    }
   ],
   "source": [
    "## checking the shape after removing null values raised_amount_usd column rows\n",
    "master_frame.shape"
   ]
  },
  {
   "cell_type": "code",
   "execution_count": 1486,
   "metadata": {},
   "outputs": [
    {
     "data": {
      "text/plain": [
       "company_permalink            0.000\n",
       "funding_round_permalink      0.000\n",
       "funding_round_type           0.000\n",
       "funding_round_code          64.393\n",
       "funded_at                    0.000\n",
       "raised_amount_usd_million    0.000\n",
       "permalink                    0.000\n",
       "name                         0.001\n",
       "homepage_url                 3.534\n",
       "category_list                0.638\n",
       "status                       0.000\n",
       "country_code                 0.000\n",
       "state_code                   2.051\n",
       "region                       1.378\n",
       "city                         1.374\n",
       "founded_at                  15.205\n",
       "dtype: float64"
      ]
     },
     "execution_count": 1486,
     "metadata": {},
     "output_type": "execute_result"
    }
   ],
   "source": [
    "## After fixing the required data of funding type, country code and invested amount, \n",
    "#let's drop not required columns after checking the null values\n",
    "\n",
    "(master_frame.isnull().sum()/len(master_frame.index))*100"
   ]
  },
  {
   "cell_type": "code",
   "execution_count": 1487,
   "metadata": {},
   "outputs": [],
   "source": [
    "## droppping not required columns\n",
    "master_frame = master_frame.drop(['funding_round_permalink','funding_round_code','funded_at','homepage_url',\\\n",
    "                   'state_code','region','city','founded_at','status'], axis=1)\n",
    "\n",
    "## Recreating index\n",
    "master_frame.reset_index(drop=True, inplace=True)"
   ]
  },
  {
   "cell_type": "markdown",
   "metadata": {},
   "source": [
    "#### Analyzing the quantile values to check the spread in investment types"
   ]
  },
  {
   "cell_type": "code",
   "execution_count": 1488,
   "metadata": {
    "scrolled": false
   },
   "outputs": [
    {
     "data": {
      "text/plain": [
       "funding_round_type       \n",
       "angel               0.250       0.152\n",
       "                    0.500       0.411\n",
       "                    0.750       1.000\n",
       "                    0.950       2.883\n",
       "                    0.970       3.500\n",
       "                    0.990       7.000\n",
       "                    1.000     494.512\n",
       "private_equity      0.250       5.000\n",
       "                    0.500      20.000\n",
       "                    0.750      75.020\n",
       "                    0.950     293.000\n",
       "                    0.970     409.800\n",
       "                    0.990     679.325\n",
       "                    1.000    4745.460\n",
       "seed                0.250       0.069\n",
       "                    0.500       0.300\n",
       "                    0.750       1.000\n",
       "                    0.950       2.500\n",
       "                    0.970       3.038\n",
       "                    0.990       4.883\n",
       "                    1.000     200.000\n",
       "venture             0.250       1.604\n",
       "                    0.500       5.000\n",
       "                    0.750      12.000\n",
       "                    0.950      39.864\n",
       "                    0.970      50.000\n",
       "                    0.990     100.000\n",
       "                    1.000   17600.000\n",
       "Name: raised_amount_usd_million, dtype: float64"
      ]
     },
     "execution_count": 1488,
     "metadata": {},
     "output_type": "execute_result"
    }
   ],
   "source": [
    "master_spread = master_frame.groupby(master_frame['funding_round_type'])\\\n",
    "                            ['raised_amount_usd_million'].quantile([.25,.5,.75,.95,.97,.99,1])\n",
    "\n",
    "master_spread"
   ]
  },
  {
   "cell_type": "markdown",
   "metadata": {},
   "source": [
    "#### It's clearly evident that we have outliers, let's create a new dataframe to analyze the invested amount spread after removing outliers after 97th percentile."
   ]
  },
  {
   "cell_type": "code",
   "execution_count": 1503,
   "metadata": {},
   "outputs": [],
   "source": [
    "master_frame_1 = master_frame[((master_frame['funding_round_type'] == 'angel') & (master_frame['raised_amount_usd_million'] <= 3.50)) |\n",
    "            ((master_frame['funding_round_type'] == 'private_equity') & (master_frame['raised_amount_usd_million'] <= 409.80))|\n",
    "            ((master_frame['funding_round_type'] == 'seed') & (master_frame['raised_amount_usd_million'] <= 3.038))|\n",
    "            ((master_frame['funding_round_type'] == 'venture') & (master_frame['raised_amount_usd_million'] <= 50.00))]"
   ]
  },
  {
   "cell_type": "code",
   "execution_count": 1504,
   "metadata": {},
   "outputs": [
    {
     "name": "stdout",
     "output_type": "stream",
     "text": [
      "raised_amount_usd_million   10.173\n",
      "dtype: float64\n",
      "raised_amount_usd_million   168.157\n",
      "dtype: float64\n"
     ]
    }
   ],
   "source": [
    "## To check the invested amount distribution distortion against normal distribution, skewness and kurtosis\n",
    "\n",
    "print(master_frame_1.skew(axis=0))\n",
    "print(master_frame_1.kurt(axis=0))"
   ]
  },
  {
   "cell_type": "markdown",
   "metadata": {},
   "source": [
    "#### Finding Mean, Median, count & standard deviation of the funding type for finding the representative values of investments"
   ]
  },
  {
   "cell_type": "code",
   "execution_count": 1505,
   "metadata": {},
   "outputs": [],
   "source": [
    "## Finding the mean invested amount per funding type and storing it in a diff dataframe to analyze it easily\n",
    "Invested_Amount_Mean = pd.DataFrame(master_frame_1.groupby(master_frame_1['funding_round_type'])\\\n",
    "                                    ['raised_amount_usd_million'].mean()).reset_index()\n",
    "\n",
    "## Finding the median invested amount per funding type and storing it in a diff dataframe to analyze it easily\n",
    "Invested_Amount_Median = pd.DataFrame(master_frame_1.groupby(master_frame_1['funding_round_type'])\\\n",
    "                                    ['raised_amount_usd_million'].median()).reset_index()\n",
    "\n",
    "## Finding the count of invested amount per funding type and storing it in a diff dataframe to analyze it easily\n",
    "Invested_Amount_count = pd.DataFrame(master_frame_1.groupby(master_frame_1['funding_round_type'])\\\n",
    "                                    ['raised_amount_usd_million'].count()).reset_index()\n",
    "\n",
    "## Finding the standard deviation of invested amount per funding type and storing it in a diff dataframe to analyze it easily\n",
    "Invested_Amount_std = pd.DataFrame(master_frame_1.groupby(master_frame_1['funding_round_type'])\\\n",
    "                                    ['raised_amount_usd_million'].std()).reset_index()"
   ]
  },
  {
   "cell_type": "markdown",
   "metadata": {},
   "source": [
    "#### Creating a common dataframe for mean, median, standard deviation & count analysis"
   ]
  },
  {
   "cell_type": "code",
   "execution_count": 1506,
   "metadata": {},
   "outputs": [],
   "source": [
    "\n",
    "Invested_Amount_Summary = Invested_Amount_Mean.merge(Invested_Amount_Median, left_on='funding_round_type',\\\n",
    "                                                     right_on='funding_round_type',\\\n",
    "                           how='left',suffixes=('_Mean', '_Median')).set_index('funding_round_type')\n",
    "\n",
    "\n",
    "Invested_Amount_Summary_withCount = Invested_Amount_Summary.merge(Invested_Amount_count, left_on='funding_round_type',\\\n",
    "                                                     right_on='funding_round_type',\\\n",
    "                           how='left').set_index('funding_round_type')\n",
    "\n",
    "\n",
    "Invested_Amount_Summary_final = Invested_Amount_Summary_withCount.merge(Invested_Amount_std, left_on='funding_round_type',\\\n",
    "                                                     right_on='funding_round_type',\\\n",
    "                           how='left').set_index('funding_round_type')\n",
    "\n",
    "## renaming the columns\n",
    "Invested_Amount_Summary_final = Invested_Amount_Summary_final.rename\\\n",
    "                                        (columns={\"raised_amount_usd_million_x\" : \"Funding Type Count\",\n",
    "                                                 \"raised_amount_usd_million_y\" : \"Funding Type Std\"})"
   ]
  },
  {
   "cell_type": "markdown",
   "metadata": {},
   "source": [
    "### Table 2.1 Answers"
   ]
  },
  {
   "cell_type": "code",
   "execution_count": 1507,
   "metadata": {
    "scrolled": true
   },
   "outputs": [
    {
     "data": {
      "text/html": [
       "<div>\n",
       "<style scoped>\n",
       "    .dataframe tbody tr th:only-of-type {\n",
       "        vertical-align: middle;\n",
       "    }\n",
       "\n",
       "    .dataframe tbody tr th {\n",
       "        vertical-align: top;\n",
       "    }\n",
       "\n",
       "    .dataframe thead th {\n",
       "        text-align: right;\n",
       "    }\n",
       "</style>\n",
       "<table border=\"1\" class=\"dataframe\">\n",
       "  <thead>\n",
       "    <tr style=\"text-align: right;\">\n",
       "      <th></th>\n",
       "      <th>raised_amount_usd_million_Mean</th>\n",
       "      <th>raised_amount_usd_million_Median</th>\n",
       "      <th>Funding Type Count</th>\n",
       "      <th>Funding Type Std</th>\n",
       "    </tr>\n",
       "    <tr>\n",
       "      <th>funding_round_type</th>\n",
       "      <th></th>\n",
       "      <th></th>\n",
       "      <th></th>\n",
       "      <th></th>\n",
       "    </tr>\n",
       "  </thead>\n",
       "  <tbody>\n",
       "    <tr>\n",
       "      <th>angel</th>\n",
       "      <td>0.632</td>\n",
       "      <td>0.400</td>\n",
       "      <td>4296</td>\n",
       "      <td>0.678</td>\n",
       "    </tr>\n",
       "    <tr>\n",
       "      <th>private_equity</th>\n",
       "      <td>49.576</td>\n",
       "      <td>19.985</td>\n",
       "      <td>1779</td>\n",
       "      <td>69.510</td>\n",
       "    </tr>\n",
       "    <tr>\n",
       "      <th>seed</th>\n",
       "      <td>0.586</td>\n",
       "      <td>0.288</td>\n",
       "      <td>20596</td>\n",
       "      <td>0.689</td>\n",
       "    </tr>\n",
       "    <tr>\n",
       "      <th>venture</th>\n",
       "      <td>8.270</td>\n",
       "      <td>5.000</td>\n",
       "      <td>46785</td>\n",
       "      <td>9.702</td>\n",
       "    </tr>\n",
       "  </tbody>\n",
       "</table>\n",
       "</div>"
      ],
      "text/plain": [
       "                    raised_amount_usd_million_Mean  \\\n",
       "funding_round_type                                   \n",
       "angel                                        0.632   \n",
       "private_equity                              49.576   \n",
       "seed                                         0.586   \n",
       "venture                                      8.270   \n",
       "\n",
       "                    raised_amount_usd_million_Median  Funding Type Count  \\\n",
       "funding_round_type                                                         \n",
       "angel                                          0.400                4296   \n",
       "private_equity                                19.985                1779   \n",
       "seed                                           0.288               20596   \n",
       "venture                                        5.000               46785   \n",
       "\n",
       "                    Funding Type Std  \n",
       "funding_round_type                    \n",
       "angel                          0.678  \n",
       "private_equity                69.510  \n",
       "seed                           0.689  \n",
       "venture                        9.702  "
      ]
     },
     "execution_count": 1507,
     "metadata": {},
     "output_type": "execute_result"
    }
   ],
   "source": [
    "### Answer SL. No 1 - 5\n",
    "## mean and median analysis\n",
    "Invested_Amount_Summary_final"
   ]
  },
  {
   "cell_type": "markdown",
   "metadata": {},
   "source": [
    "#### For answers without million"
   ]
  },
  {
   "cell_type": "code",
   "execution_count": 1508,
   "metadata": {},
   "outputs": [
    {
     "data": {
      "text/plain": [
       "funding_round_type\n",
       "angel              632460.703\n",
       "private_equity   49575997.691\n",
       "seed               586183.908\n",
       "venture           8270160.665\n",
       "Name: raised_amount_usd_million, dtype: float64"
      ]
     },
     "execution_count": 1508,
     "metadata": {},
     "output_type": "execute_result"
    }
   ],
   "source": [
    "master_frame_1.groupby(master_frame_1['funding_round_type'])\\\n",
    "                                    ['raised_amount_usd_million'].mean()*10**6"
   ]
  },
  {
   "cell_type": "markdown",
   "metadata": {},
   "source": [
    "### After analyzing mean, median, standard deviation & count of all 4 type of fundings, we can say that 'Venture' fits all the criteria for investment and by looking at the quantiles, we can use mean as the most representative value as the data is spread in a large range and its skewed to the right, but we removed the outliers."
   ]
  },
  {
   "cell_type": "markdown",
   "metadata": {},
   "source": [
    "#### Evaluating through graph"
   ]
  },
  {
   "cell_type": "code",
   "execution_count": 1509,
   "metadata": {},
   "outputs": [
    {
     "data": {
      "image/png": "[encoded data removed]",
      "text/plain": [
       "<Figure size 576x432 with 1 Axes>"
      ]
     },
     "metadata": {},
     "output_type": "display_data"
    }
   ],
   "source": [
    "## plotting mean and median\n",
    "Invested_Amount_Summary.sort_values(by='raised_amount_usd_million_Mean')\\\n",
    "    .plot.bar(xlabel='Funding Type', ylabel='Amount Invested in Million USD',figsize=(8,6))\n",
    "\n",
    "plt.show()\n",
    "#plt.figure(figsize=(12,8))\n",
    "#sns.set_theme(style=\"whitegrid\")\n",
    "#sns.boxplot(x=master_frame['funding_round_type'], y=master_frame['raised_amount_usd'], hue= master_frame['funding_round_type'])\n",
    "#plt.show()"
   ]
  },
  {
   "cell_type": "markdown",
   "metadata": {},
   "source": [
    "# Checkpoint 3: Country Analysis"
   ]
  },
  {
   "cell_type": "markdown",
   "metadata": {},
   "source": [
    "### Now we know the suitable funding type, let's select only 'venture' funding type and discard others"
   ]
  },
  {
   "cell_type": "code",
   "execution_count": 1510,
   "metadata": {},
   "outputs": [],
   "source": [
    "master_frame = master_frame[master_frame['funding_round_type'] == 'venture']"
   ]
  },
  {
   "cell_type": "code",
   "execution_count": 1511,
   "metadata": {},
   "outputs": [],
   "source": [
    "## creating dataframe of top 9 countries with the highest invested amount\n",
    "\n",
    "top_sum = pd.DataFrame(master_frame.groupby(master_frame['country_code'])['raised_amount_usd_million']\\\n",
    "                    .sum().sort_values(ascending=False))\n",
    "\n",
    "top9 = top_sum.head(9)"
   ]
  },
  {
   "cell_type": "code",
   "execution_count": 1512,
   "metadata": {},
   "outputs": [
    {
     "data": {
      "text/html": [
       "<div>\n",
       "<style scoped>\n",
       "    .dataframe tbody tr th:only-of-type {\n",
       "        vertical-align: middle;\n",
       "    }\n",
       "\n",
       "    .dataframe tbody tr th {\n",
       "        vertical-align: top;\n",
       "    }\n",
       "\n",
       "    .dataframe thead th {\n",
       "        text-align: right;\n",
       "    }\n",
       "</style>\n",
       "<table border=\"1\" class=\"dataframe\">\n",
       "  <thead>\n",
       "    <tr style=\"text-align: right;\">\n",
       "      <th></th>\n",
       "      <th>raised_amount_usd_million</th>\n",
       "    </tr>\n",
       "    <tr>\n",
       "      <th>country_code</th>\n",
       "      <th></th>\n",
       "    </tr>\n",
       "  </thead>\n",
       "  <tbody>\n",
       "    <tr>\n",
       "      <th>USA</th>\n",
       "      <td>422510.843</td>\n",
       "    </tr>\n",
       "    <tr>\n",
       "      <th>CHN</th>\n",
       "      <td>39835.419</td>\n",
       "    </tr>\n",
       "    <tr>\n",
       "      <th>GBR</th>\n",
       "      <td>20245.627</td>\n",
       "    </tr>\n",
       "    <tr>\n",
       "      <th>IND</th>\n",
       "      <td>14391.859</td>\n",
       "    </tr>\n",
       "    <tr>\n",
       "      <th>CAN</th>\n",
       "      <td>9583.332</td>\n",
       "    </tr>\n",
       "    <tr>\n",
       "      <th>FRA</th>\n",
       "      <td>7259.537</td>\n",
       "    </tr>\n",
       "    <tr>\n",
       "      <th>ISR</th>\n",
       "      <td>6907.515</td>\n",
       "    </tr>\n",
       "    <tr>\n",
       "      <th>DEU</th>\n",
       "      <td>6346.960</td>\n",
       "    </tr>\n",
       "    <tr>\n",
       "      <th>JPN</th>\n",
       "      <td>3363.677</td>\n",
       "    </tr>\n",
       "  </tbody>\n",
       "</table>\n",
       "</div>"
      ],
      "text/plain": [
       "              raised_amount_usd_million\n",
       "country_code                           \n",
       "USA                          422510.843\n",
       "CHN                           39835.419\n",
       "GBR                           20245.627\n",
       "IND                           14391.859\n",
       "CAN                            9583.332\n",
       "FRA                            7259.537\n",
       "ISR                            6907.515\n",
       "DEU                            6346.960\n",
       "JPN                            3363.677"
      ]
     },
     "execution_count": 1512,
     "metadata": {},
     "output_type": "execute_result"
    }
   ],
   "source": [
    "top9"
   ]
  },
  {
   "cell_type": "code",
   "execution_count": 1518,
   "metadata": {},
   "outputs": [
    {
     "data": {
      "text/html": [
       "<div>\n",
       "<style scoped>\n",
       "    .dataframe tbody tr th:only-of-type {\n",
       "        vertical-align: middle;\n",
       "    }\n",
       "\n",
       "    .dataframe tbody tr th {\n",
       "        vertical-align: top;\n",
       "    }\n",
       "\n",
       "    .dataframe thead th {\n",
       "        text-align: right;\n",
       "    }\n",
       "</style>\n",
       "<table border=\"1\" class=\"dataframe\">\n",
       "  <thead>\n",
       "    <tr style=\"text-align: right;\">\n",
       "      <th></th>\n",
       "      <th>raised_amount_usd_million</th>\n",
       "    </tr>\n",
       "    <tr>\n",
       "      <th>country_code</th>\n",
       "      <th></th>\n",
       "    </tr>\n",
       "  </thead>\n",
       "  <tbody>\n",
       "    <tr>\n",
       "      <th>USA</th>\n",
       "      <td>422510.843</td>\n",
       "    </tr>\n",
       "    <tr>\n",
       "      <th>GBR</th>\n",
       "      <td>20245.627</td>\n",
       "    </tr>\n",
       "    <tr>\n",
       "      <th>IND</th>\n",
       "      <td>14391.859</td>\n",
       "    </tr>\n",
       "  </tbody>\n",
       "</table>\n",
       "</div>"
      ],
      "text/plain": [
       "              raised_amount_usd_million\n",
       "country_code                           \n",
       "USA                          422510.843\n",
       "GBR                           20245.627\n",
       "IND                           14391.859"
      ]
     },
     "execution_count": 1518,
     "metadata": {},
     "output_type": "execute_result"
    }
   ],
   "source": [
    "top9.loc[['USA','GBR','IND']]"
   ]
  },
  {
   "cell_type": "markdown",
   "metadata": {},
   "source": [
    "### After checking the countries with the English as an official language from the wiki page, top 3 english speaking countries in the dataframe top9 with the highest invested amounts are USA, GBR & IND"
   ]
  },
  {
   "cell_type": "markdown",
   "metadata": {},
   "source": [
    "# Checkpoint 4: Sector Analysis 1"
   ]
  },
  {
   "cell_type": "code",
   "execution_count": 1519,
   "metadata": {},
   "outputs": [],
   "source": [
    "## Now, we know what 3 countries we want to invest. Let's include only these countries and remove all other countries\n",
    "master_frame = master_frame[master_frame['country_code'].isin(['USA','GBR','IND'])]"
   ]
  },
  {
   "cell_type": "code",
   "execution_count": 1520,
   "metadata": {},
   "outputs": [
    {
     "data": {
      "text/plain": [
       "(39018, 7)"
      ]
     },
     "execution_count": 1520,
     "metadata": {},
     "output_type": "execute_result"
    }
   ],
   "source": [
    "master_frame.shape"
   ]
  },
  {
   "cell_type": "code",
   "execution_count": 1521,
   "metadata": {},
   "outputs": [],
   "source": [
    "## Creating a new column Primary_sector from category_list by splitting it and selecting the first category\n",
    "master_frame['Primary_Sector'] = master_frame['category_list'].str.split('|').str[0]\n",
    "\n",
    "master_frame = master_frame.drop('category_list', axis=1)"
   ]
  },
  {
   "cell_type": "code",
   "execution_count": 1522,
   "metadata": {},
   "outputs": [
    {
     "data": {
      "text/html": [
       "<div>\n",
       "<style scoped>\n",
       "    .dataframe tbody tr th:only-of-type {\n",
       "        vertical-align: middle;\n",
       "    }\n",
       "\n",
       "    .dataframe tbody tr th {\n",
       "        vertical-align: top;\n",
       "    }\n",
       "\n",
       "    .dataframe thead th {\n",
       "        text-align: right;\n",
       "    }\n",
       "</style>\n",
       "<table border=\"1\" class=\"dataframe\">\n",
       "  <thead>\n",
       "    <tr style=\"text-align: right;\">\n",
       "      <th></th>\n",
       "      <th>company_permalink</th>\n",
       "      <th>funding_round_type</th>\n",
       "      <th>raised_amount_usd_million</th>\n",
       "      <th>permalink</th>\n",
       "      <th>name</th>\n",
       "      <th>country_code</th>\n",
       "      <th>Primary_Sector</th>\n",
       "    </tr>\n",
       "  </thead>\n",
       "  <tbody>\n",
       "    <tr>\n",
       "      <th>0</th>\n",
       "      <td>/organization/-fame</td>\n",
       "      <td>venture</td>\n",
       "      <td>10.000</td>\n",
       "      <td>/organization/-fame</td>\n",
       "      <td>#fame</td>\n",
       "      <td>IND</td>\n",
       "      <td>Media</td>\n",
       "    </tr>\n",
       "    <tr>\n",
       "      <th>6</th>\n",
       "      <td>/organization/0xdata</td>\n",
       "      <td>venture</td>\n",
       "      <td>20.000</td>\n",
       "      <td>/organization/0xdata</td>\n",
       "      <td>h2o.ai</td>\n",
       "      <td>USA</td>\n",
       "      <td>Analytics</td>\n",
       "    </tr>\n",
       "    <tr>\n",
       "      <th>7</th>\n",
       "      <td>/organization/0xdata</td>\n",
       "      <td>venture</td>\n",
       "      <td>1.700</td>\n",
       "      <td>/organization/0xdata</td>\n",
       "      <td>h2o.ai</td>\n",
       "      <td>USA</td>\n",
       "      <td>Analytics</td>\n",
       "    </tr>\n",
       "    <tr>\n",
       "      <th>8</th>\n",
       "      <td>/organization/0xdata</td>\n",
       "      <td>venture</td>\n",
       "      <td>8.900</td>\n",
       "      <td>/organization/0xdata</td>\n",
       "      <td>h2o.ai</td>\n",
       "      <td>USA</td>\n",
       "      <td>Analytics</td>\n",
       "    </tr>\n",
       "    <tr>\n",
       "      <th>13</th>\n",
       "      <td>/organization/1-mainstream</td>\n",
       "      <td>venture</td>\n",
       "      <td>5.000</td>\n",
       "      <td>/organization/1-mainstream</td>\n",
       "      <td>1 mainstream</td>\n",
       "      <td>USA</td>\n",
       "      <td>Apps</td>\n",
       "    </tr>\n",
       "  </tbody>\n",
       "</table>\n",
       "</div>"
      ],
      "text/plain": [
       "             company_permalink funding_round_type  raised_amount_usd_million  \\\n",
       "0          /organization/-fame            venture                     10.000   \n",
       "6         /organization/0xdata            venture                     20.000   \n",
       "7         /organization/0xdata            venture                      1.700   \n",
       "8         /organization/0xdata            venture                      8.900   \n",
       "13  /organization/1-mainstream            venture                      5.000   \n",
       "\n",
       "                     permalink          name country_code Primary_Sector  \n",
       "0          /organization/-fame         #fame          IND          Media  \n",
       "6         /organization/0xdata        h2o.ai          USA      Analytics  \n",
       "7         /organization/0xdata        h2o.ai          USA      Analytics  \n",
       "8         /organization/0xdata        h2o.ai          USA      Analytics  \n",
       "13  /organization/1-mainstream  1 mainstream          USA           Apps  "
      ]
     },
     "execution_count": 1522,
     "metadata": {},
     "output_type": "execute_result"
    }
   ],
   "source": [
    "master_frame.head()"
   ]
  },
  {
   "cell_type": "markdown",
   "metadata": {},
   "source": [
    "#### Loading the mapping file into a dataframe to merge it with our main dataframe"
   ]
  },
  {
   "cell_type": "code",
   "execution_count": 1523,
   "metadata": {},
   "outputs": [],
   "source": [
    "mapping = pd.read_csv('mapping.csv')"
   ]
  },
  {
   "cell_type": "code",
   "execution_count": 1531,
   "metadata": {},
   "outputs": [
    {
     "data": {
      "text/html": [
       "<div>\n",
       "<style scoped>\n",
       "    .dataframe tbody tr th:only-of-type {\n",
       "        vertical-align: middle;\n",
       "    }\n",
       "\n",
       "    .dataframe tbody tr th {\n",
       "        vertical-align: top;\n",
       "    }\n",
       "\n",
       "    .dataframe thead th {\n",
       "        text-align: right;\n",
       "    }\n",
       "</style>\n",
       "<table border=\"1\" class=\"dataframe\">\n",
       "  <thead>\n",
       "    <tr style=\"text-align: right;\">\n",
       "      <th></th>\n",
       "      <th>category_list</th>\n",
       "      <th>Automotive &amp; Sports</th>\n",
       "      <th>Blanks</th>\n",
       "      <th>Cleantech / Semiconductors</th>\n",
       "      <th>Entertainment</th>\n",
       "      <th>Health</th>\n",
       "      <th>Manufacturing</th>\n",
       "      <th>News, Search and Messaging</th>\n",
       "      <th>Others</th>\n",
       "      <th>Social, Finance, Analytics, Advertising</th>\n",
       "    </tr>\n",
       "  </thead>\n",
       "  <tbody>\n",
       "    <tr>\n",
       "      <th>0</th>\n",
       "      <td>NaN</td>\n",
       "      <td>0</td>\n",
       "      <td>1</td>\n",
       "      <td>0</td>\n",
       "      <td>0</td>\n",
       "      <td>0</td>\n",
       "      <td>0</td>\n",
       "      <td>0</td>\n",
       "      <td>0</td>\n",
       "      <td>0</td>\n",
       "    </tr>\n",
       "    <tr>\n",
       "      <th>1</th>\n",
       "      <td>3D</td>\n",
       "      <td>0</td>\n",
       "      <td>0</td>\n",
       "      <td>0</td>\n",
       "      <td>0</td>\n",
       "      <td>0</td>\n",
       "      <td>1</td>\n",
       "      <td>0</td>\n",
       "      <td>0</td>\n",
       "      <td>0</td>\n",
       "    </tr>\n",
       "    <tr>\n",
       "      <th>2</th>\n",
       "      <td>3D Printing</td>\n",
       "      <td>0</td>\n",
       "      <td>0</td>\n",
       "      <td>0</td>\n",
       "      <td>0</td>\n",
       "      <td>0</td>\n",
       "      <td>1</td>\n",
       "      <td>0</td>\n",
       "      <td>0</td>\n",
       "      <td>0</td>\n",
       "    </tr>\n",
       "    <tr>\n",
       "      <th>3</th>\n",
       "      <td>3D Technology</td>\n",
       "      <td>0</td>\n",
       "      <td>0</td>\n",
       "      <td>0</td>\n",
       "      <td>0</td>\n",
       "      <td>0</td>\n",
       "      <td>1</td>\n",
       "      <td>0</td>\n",
       "      <td>0</td>\n",
       "      <td>0</td>\n",
       "    </tr>\n",
       "    <tr>\n",
       "      <th>4</th>\n",
       "      <td>Accounting</td>\n",
       "      <td>0</td>\n",
       "      <td>0</td>\n",
       "      <td>0</td>\n",
       "      <td>0</td>\n",
       "      <td>0</td>\n",
       "      <td>0</td>\n",
       "      <td>0</td>\n",
       "      <td>0</td>\n",
       "      <td>1</td>\n",
       "    </tr>\n",
       "  </tbody>\n",
       "</table>\n",
       "</div>"
      ],
      "text/plain": [
       "   category_list  Automotive & Sports  Blanks  Cleantech / Semiconductors  \\\n",
       "0            NaN                    0       1                           0   \n",
       "1             3D                    0       0                           0   \n",
       "2    3D Printing                    0       0                           0   \n",
       "3  3D Technology                    0       0                           0   \n",
       "4     Accounting                    0       0                           0   \n",
       "\n",
       "   Entertainment  Health  Manufacturing  News, Search and Messaging  Others  \\\n",
       "0              0       0              0                           0       0   \n",
       "1              0       0              1                           0       0   \n",
       "2              0       0              1                           0       0   \n",
       "3              0       0              1                           0       0   \n",
       "4              0       0              0                           0       0   \n",
       "\n",
       "   Social, Finance, Analytics, Advertising  \n",
       "0                                        0  \n",
       "1                                        0  \n",
       "2                                        0  \n",
       "3                                        0  \n",
       "4                                        1  "
      ]
     },
     "execution_count": 1531,
     "metadata": {},
     "output_type": "execute_result"
    }
   ],
   "source": [
    "mapping.head()"
   ]
  },
  {
   "cell_type": "markdown",
   "metadata": {},
   "source": [
    "#### Evaluating the mapping dataframe"
   ]
  },
  {
   "cell_type": "code",
   "execution_count": 1532,
   "metadata": {},
   "outputs": [
    {
     "data": {
      "text/plain": [
       "Index(['category_list', 'Automotive & Sports', 'Blanks',\n",
       "       'Cleantech / Semiconductors', 'Entertainment', 'Health',\n",
       "       'Manufacturing', 'News, Search and Messaging', 'Others',\n",
       "       'Social, Finance, Analytics, Advertising'],\n",
       "      dtype='object')"
      ]
     },
     "execution_count": 1532,
     "metadata": {},
     "output_type": "execute_result"
    }
   ],
   "source": [
    "mapping.columns"
   ]
  },
  {
   "cell_type": "code",
   "execution_count": 1533,
   "metadata": {},
   "outputs": [
    {
     "data": {
      "text/plain": [
       "category_list                              object\n",
       "Automotive & Sports                         int64\n",
       "Blanks                                      int64\n",
       "Cleantech / Semiconductors                  int64\n",
       "Entertainment                               int64\n",
       "Health                                      int64\n",
       "Manufacturing                               int64\n",
       "News, Search and Messaging                  int64\n",
       "Others                                      int64\n",
       "Social, Finance, Analytics, Advertising     int64\n",
       "dtype: object"
      ]
     },
     "execution_count": 1533,
     "metadata": {},
     "output_type": "execute_result"
    }
   ],
   "source": [
    "mapping.dtypes"
   ]
  },
  {
   "cell_type": "code",
   "execution_count": 1534,
   "metadata": {},
   "outputs": [
    {
     "data": {
      "text/plain": [
       "(688, 10)"
      ]
     },
     "execution_count": 1534,
     "metadata": {},
     "output_type": "execute_result"
    }
   ],
   "source": [
    "mapping.shape"
   ]
  },
  {
   "cell_type": "markdown",
   "metadata": {},
   "source": [
    "#### After checking the df, the data seems to scattered into diff column with values 1 and 0. \n",
    "#### There are multiple ways to handle it and get the data we want. I am going to use pd.melt() to solve this."
   ]
  },
  {
   "cell_type": "code",
   "execution_count": 1535,
   "metadata": {},
   "outputs": [
    {
     "name": "stdout",
     "output_type": "stream",
     "text": [
      "value_vars : ['Automotive & Sports', 'Blanks', 'Cleantech / Semiconductors', 'Entertainment', 'Health', 'Manufacturing', 'News, Search and Messaging', 'Others', 'Social, Finance, Analytics, Advertising']\n",
      "\n",
      "id_vars : ['category_list']\n"
     ]
    }
   ],
   "source": [
    "## finding the parameter values which are typically column names \n",
    "\n",
    "#value_vars contains all the columns where you want to apply this function\n",
    "value_vars = list(mapping.columns[1:])\n",
    "print(f'value_vars : {value_vars}\\n')\n",
    "\n",
    "# whereas id_vars acts as an index or id\n",
    "id_vars = list(np.setdiff1d(list(mapping.columns), value_vars))\n",
    "print(f'id_vars : {id_vars}')"
   ]
  },
  {
   "cell_type": "code",
   "execution_count": 1536,
   "metadata": {},
   "outputs": [],
   "source": [
    "## using the melt function & selecting the required data and dropping unnecessary column\n",
    "mapping_new = pd.melt(mapping, id_vars=id_vars, value_vars=value_vars)\n",
    "\n",
    "mapping_new = mapping_new[mapping_new.value == 1]\n",
    "\n",
    "mapping_new = mapping_new.drop('value', axis=1)"
   ]
  },
  {
   "cell_type": "code",
   "execution_count": 1537,
   "metadata": {},
   "outputs": [
    {
     "data": {
      "text/html": [
       "<div>\n",
       "<style scoped>\n",
       "    .dataframe tbody tr th:only-of-type {\n",
       "        vertical-align: middle;\n",
       "    }\n",
       "\n",
       "    .dataframe tbody tr th {\n",
       "        vertical-align: top;\n",
       "    }\n",
       "\n",
       "    .dataframe thead th {\n",
       "        text-align: right;\n",
       "    }\n",
       "</style>\n",
       "<table border=\"1\" class=\"dataframe\">\n",
       "  <thead>\n",
       "    <tr style=\"text-align: right;\">\n",
       "      <th></th>\n",
       "      <th>category_list</th>\n",
       "      <th>variable</th>\n",
       "    </tr>\n",
       "  </thead>\n",
       "  <tbody>\n",
       "    <tr>\n",
       "      <th>8</th>\n",
       "      <td>Adventure Travel</td>\n",
       "      <td>Automotive &amp; Sports</td>\n",
       "    </tr>\n",
       "    <tr>\n",
       "      <th>14</th>\n",
       "      <td>Aerospace</td>\n",
       "      <td>Automotive &amp; Sports</td>\n",
       "    </tr>\n",
       "    <tr>\n",
       "      <th>45</th>\n",
       "      <td>Auto</td>\n",
       "      <td>Automotive &amp; Sports</td>\n",
       "    </tr>\n",
       "    <tr>\n",
       "      <th>46</th>\n",
       "      <td>Automated Kiosk</td>\n",
       "      <td>Automotive &amp; Sports</td>\n",
       "    </tr>\n",
       "    <tr>\n",
       "      <th>47</th>\n",
       "      <td>Automotive</td>\n",
       "      <td>Automotive &amp; Sports</td>\n",
       "    </tr>\n",
       "  </tbody>\n",
       "</table>\n",
       "</div>"
      ],
      "text/plain": [
       "       category_list             variable\n",
       "8   Adventure Travel  Automotive & Sports\n",
       "14         Aerospace  Automotive & Sports\n",
       "45              Auto  Automotive & Sports\n",
       "46   Automated Kiosk  Automotive & Sports\n",
       "47        Automotive  Automotive & Sports"
      ]
     },
     "execution_count": 1537,
     "metadata": {},
     "output_type": "execute_result"
    }
   ],
   "source": [
    "mapping_new.head()"
   ]
  },
  {
   "cell_type": "markdown",
   "metadata": {},
   "source": [
    "#### Merging the mapping dataframe to master dataframe and renaming the column to Main_Sector"
   ]
  },
  {
   "cell_type": "code",
   "execution_count": 1539,
   "metadata": {},
   "outputs": [],
   "source": [
    "master_frame = master_frame.merge(mapping_new, how='left', left_on='Primary_Sector', right_on='category_list')\n",
    "\n",
    "master_frame = master_frame.rename(columns = {'variable':'Main_Sector'})"
   ]
  },
  {
   "cell_type": "code",
   "execution_count": 1541,
   "metadata": {},
   "outputs": [
    {
     "data": {
      "text/plain": [
       "(39018, 9)"
      ]
     },
     "execution_count": 1541,
     "metadata": {},
     "output_type": "execute_result"
    }
   ],
   "source": [
    "master_frame.shape"
   ]
  },
  {
   "cell_type": "code",
   "execution_count": 1542,
   "metadata": {},
   "outputs": [
    {
     "data": {
      "text/plain": [
       "2616"
      ]
     },
     "execution_count": 1542,
     "metadata": {},
     "output_type": "execute_result"
    }
   ],
   "source": [
    "## Checking if Main_sector have any null values\n",
    "master_frame['Main_Sector'].isnull().sum()"
   ]
  },
  {
   "cell_type": "code",
   "execution_count": 1543,
   "metadata": {},
   "outputs": [
    {
     "data": {
      "text/plain": [
       "array(['Entertainment', nan, 'News, Search and Messaging', 'Others',\n",
       "       'Health', 'Cleantech / Semiconductors', 'Manufacturing',\n",
       "       'Social, Finance, Analytics, Advertising', 'Automotive & Sports',\n",
       "       'Blanks'], dtype=object)"
      ]
     },
     "execution_count": 1543,
     "metadata": {},
     "output_type": "execute_result"
    }
   ],
   "source": [
    "## Checking the Main_Sector added to our master frame... Since we don't need 'Blanks' I am going to remove it\n",
    "master_frame['Main_Sector'].unique()"
   ]
  },
  {
   "cell_type": "code",
   "execution_count": 1544,
   "metadata": {},
   "outputs": [],
   "source": [
    "## Removing all the rows with null and 'Blanks' Main_Sector\n",
    "master_frame = master_frame[master_frame.Main_Sector.notnull()]\n",
    "\n",
    "master_frame = master_frame[~(master_frame.Main_Sector == 'Blanks')]\n",
    "\n",
    "## dropping category_list column as it's a duplicate of Primary_Sector\n",
    "master_frame = master_frame.drop('category_list', axis=1)"
   ]
  },
  {
   "cell_type": "markdown",
   "metadata": {},
   "source": [
    "### Master frame with Primary & Main Sector"
   ]
  },
  {
   "cell_type": "code",
   "execution_count": 1545,
   "metadata": {},
   "outputs": [
    {
     "data": {
      "text/plain": [
       "(36187, 8)"
      ]
     },
     "execution_count": 1545,
     "metadata": {},
     "output_type": "execute_result"
    }
   ],
   "source": [
    "master_frame.shape"
   ]
  },
  {
   "cell_type": "code",
   "execution_count": 1546,
   "metadata": {},
   "outputs": [
    {
     "data": {
      "text/html": [
       "<div>\n",
       "<style scoped>\n",
       "    .dataframe tbody tr th:only-of-type {\n",
       "        vertical-align: middle;\n",
       "    }\n",
       "\n",
       "    .dataframe tbody tr th {\n",
       "        vertical-align: top;\n",
       "    }\n",
       "\n",
       "    .dataframe thead th {\n",
       "        text-align: right;\n",
       "    }\n",
       "</style>\n",
       "<table border=\"1\" class=\"dataframe\">\n",
       "  <thead>\n",
       "    <tr style=\"text-align: right;\">\n",
       "      <th></th>\n",
       "      <th>company_permalink</th>\n",
       "      <th>funding_round_type</th>\n",
       "      <th>raised_amount_usd_million</th>\n",
       "      <th>permalink</th>\n",
       "      <th>name</th>\n",
       "      <th>country_code</th>\n",
       "      <th>Primary_Sector</th>\n",
       "      <th>Main_Sector</th>\n",
       "    </tr>\n",
       "  </thead>\n",
       "  <tbody>\n",
       "    <tr>\n",
       "      <th>0</th>\n",
       "      <td>/organization/-fame</td>\n",
       "      <td>venture</td>\n",
       "      <td>10.000</td>\n",
       "      <td>/organization/-fame</td>\n",
       "      <td>#fame</td>\n",
       "      <td>IND</td>\n",
       "      <td>Media</td>\n",
       "      <td>Entertainment</td>\n",
       "    </tr>\n",
       "    <tr>\n",
       "      <th>4</th>\n",
       "      <td>/organization/1-mainstream</td>\n",
       "      <td>venture</td>\n",
       "      <td>5.000</td>\n",
       "      <td>/organization/1-mainstream</td>\n",
       "      <td>1 mainstream</td>\n",
       "      <td>USA</td>\n",
       "      <td>Apps</td>\n",
       "      <td>News, Search and Messaging</td>\n",
       "    </tr>\n",
       "    <tr>\n",
       "      <th>5</th>\n",
       "      <td>/organization/10-minutes-with</td>\n",
       "      <td>venture</td>\n",
       "      <td>4.000</td>\n",
       "      <td>/organization/10-minutes-with</td>\n",
       "      <td>10 minutes with</td>\n",
       "      <td>GBR</td>\n",
       "      <td>Education</td>\n",
       "      <td>Others</td>\n",
       "    </tr>\n",
       "    <tr>\n",
       "      <th>6</th>\n",
       "      <td>/organization/1000memories</td>\n",
       "      <td>venture</td>\n",
       "      <td>2.520</td>\n",
       "      <td>/organization/1000memories</td>\n",
       "      <td>1000memories</td>\n",
       "      <td>USA</td>\n",
       "      <td>Curated Web</td>\n",
       "      <td>News, Search and Messaging</td>\n",
       "    </tr>\n",
       "    <tr>\n",
       "      <th>7</th>\n",
       "      <td>/organization/1000museums-com</td>\n",
       "      <td>venture</td>\n",
       "      <td>0.266</td>\n",
       "      <td>/organization/1000museums-com</td>\n",
       "      <td>1000museums.com</td>\n",
       "      <td>USA</td>\n",
       "      <td>Curated Web</td>\n",
       "      <td>News, Search and Messaging</td>\n",
       "    </tr>\n",
       "    <tr>\n",
       "      <th>...</th>\n",
       "      <td>...</td>\n",
       "      <td>...</td>\n",
       "      <td>...</td>\n",
       "      <td>...</td>\n",
       "      <td>...</td>\n",
       "      <td>...</td>\n",
       "      <td>...</td>\n",
       "      <td>...</td>\n",
       "    </tr>\n",
       "    <tr>\n",
       "      <th>39013</th>\n",
       "      <td>/organization/zyomyx-inc</td>\n",
       "      <td>venture</td>\n",
       "      <td>12.000</td>\n",
       "      <td>/organization/zyomyx-inc</td>\n",
       "      <td>zyomyx</td>\n",
       "      <td>USA</td>\n",
       "      <td>Biotechnology</td>\n",
       "      <td>Cleantech / Semiconductors</td>\n",
       "    </tr>\n",
       "    <tr>\n",
       "      <th>39014</th>\n",
       "      <td>/organization/zyomyx-inc</td>\n",
       "      <td>venture</td>\n",
       "      <td>14.220</td>\n",
       "      <td>/organization/zyomyx-inc</td>\n",
       "      <td>zyomyx</td>\n",
       "      <td>USA</td>\n",
       "      <td>Biotechnology</td>\n",
       "      <td>Cleantech / Semiconductors</td>\n",
       "    </tr>\n",
       "    <tr>\n",
       "      <th>39015</th>\n",
       "      <td>/organization/zyomyx-inc</td>\n",
       "      <td>venture</td>\n",
       "      <td>0.555</td>\n",
       "      <td>/organization/zyomyx-inc</td>\n",
       "      <td>zyomyx</td>\n",
       "      <td>USA</td>\n",
       "      <td>Biotechnology</td>\n",
       "      <td>Cleantech / Semiconductors</td>\n",
       "    </tr>\n",
       "    <tr>\n",
       "      <th>39016</th>\n",
       "      <td>/organization/zyrra</td>\n",
       "      <td>venture</td>\n",
       "      <td>0.141</td>\n",
       "      <td>/organization/zyrra</td>\n",
       "      <td>zyrra</td>\n",
       "      <td>USA</td>\n",
       "      <td>E-Commerce</td>\n",
       "      <td>Others</td>\n",
       "    </tr>\n",
       "    <tr>\n",
       "      <th>39017</th>\n",
       "      <td>/organization/zystor</td>\n",
       "      <td>venture</td>\n",
       "      <td>8.500</td>\n",
       "      <td>/organization/zystor</td>\n",
       "      <td>zystor</td>\n",
       "      <td>USA</td>\n",
       "      <td>Biotechnology</td>\n",
       "      <td>Cleantech / Semiconductors</td>\n",
       "    </tr>\n",
       "  </tbody>\n",
       "</table>\n",
       "<p>36187 rows × 8 columns</p>\n",
       "</div>"
      ],
      "text/plain": [
       "                   company_permalink funding_round_type  \\\n",
       "0                /organization/-fame            venture   \n",
       "4         /organization/1-mainstream            venture   \n",
       "5      /organization/10-minutes-with            venture   \n",
       "6         /organization/1000memories            venture   \n",
       "7      /organization/1000museums-com            venture   \n",
       "...                              ...                ...   \n",
       "39013       /organization/zyomyx-inc            venture   \n",
       "39014       /organization/zyomyx-inc            venture   \n",
       "39015       /organization/zyomyx-inc            venture   \n",
       "39016            /organization/zyrra            venture   \n",
       "39017           /organization/zystor            venture   \n",
       "\n",
       "       raised_amount_usd_million                      permalink  \\\n",
       "0                         10.000            /organization/-fame   \n",
       "4                          5.000     /organization/1-mainstream   \n",
       "5                          4.000  /organization/10-minutes-with   \n",
       "6                          2.520     /organization/1000memories   \n",
       "7                          0.266  /organization/1000museums-com   \n",
       "...                          ...                            ...   \n",
       "39013                     12.000       /organization/zyomyx-inc   \n",
       "39014                     14.220       /organization/zyomyx-inc   \n",
       "39015                      0.555       /organization/zyomyx-inc   \n",
       "39016                      0.141            /organization/zyrra   \n",
       "39017                      8.500           /organization/zystor   \n",
       "\n",
       "                  name country_code Primary_Sector                 Main_Sector  \n",
       "0                #fame          IND          Media               Entertainment  \n",
       "4         1 mainstream          USA           Apps  News, Search and Messaging  \n",
       "5      10 minutes with          GBR      Education                      Others  \n",
       "6         1000memories          USA    Curated Web  News, Search and Messaging  \n",
       "7      1000museums.com          USA    Curated Web  News, Search and Messaging  \n",
       "...                ...          ...            ...                         ...  \n",
       "39013           zyomyx          USA  Biotechnology  Cleantech / Semiconductors  \n",
       "39014           zyomyx          USA  Biotechnology  Cleantech / Semiconductors  \n",
       "39015           zyomyx          USA  Biotechnology  Cleantech / Semiconductors  \n",
       "39016            zyrra          USA     E-Commerce                      Others  \n",
       "39017           zystor          USA  Biotechnology  Cleantech / Semiconductors  \n",
       "\n",
       "[36187 rows x 8 columns]"
      ]
     },
     "execution_count": 1546,
     "metadata": {},
     "output_type": "execute_result"
    }
   ],
   "source": [
    "master_frame"
   ]
  },
  {
   "cell_type": "markdown",
   "metadata": {},
   "source": [
    "# Checkpoint 5: Sector Analysis 2"
   ]
  },
  {
   "cell_type": "markdown",
   "metadata": {},
   "source": [
    "#### Let's create the separate dataframes D1, D2 & D3 for each of the three top english speaking countries USA, GBR & IND with funding type as 'Venture' in range 5-15 million"
   ]
  },
  {
   "cell_type": "code",
   "execution_count": 1547,
   "metadata": {},
   "outputs": [],
   "source": [
    "## For country USA\n",
    "D1 = master_frame[(master_frame['country_code'] == 'USA') & (master_frame['funding_round_type'] == 'venture') & \\\n",
    "            (master_frame['raised_amount_usd_million'] >= 5.0) & (master_frame['raised_amount_usd_million'] <= 15.0)]\n",
    "\n",
    "## For country GBR\n",
    "D2 = master_frame[(master_frame['country_code'] == 'GBR') & (master_frame['funding_round_type'] == 'venture') & \\\n",
    "            (master_frame['raised_amount_usd_million'] >= 5.0) & (master_frame['raised_amount_usd_million'] <= 15.0)]\n",
    "\n",
    "## For country IND\n",
    "D3 = master_frame[(master_frame['country_code'] == 'IND') & (master_frame['funding_round_type'] == 'venture') & \\\n",
    "            (master_frame['raised_amount_usd_million'] >= 5.0) & (master_frame['raised_amount_usd_million'] <= 15.0)]"
   ]
  },
  {
   "cell_type": "markdown",
   "metadata": {},
   "source": [
    "#### Checking whether the new dataframes have all the columns and correct data that we need for analysis and recreating index for them"
   ]
  },
  {
   "cell_type": "code",
   "execution_count": 1548,
   "metadata": {},
   "outputs": [
    {
     "data": {
      "text/html": [
       "<div>\n",
       "<style scoped>\n",
       "    .dataframe tbody tr th:only-of-type {\n",
       "        vertical-align: middle;\n",
       "    }\n",
       "\n",
       "    .dataframe tbody tr th {\n",
       "        vertical-align: top;\n",
       "    }\n",
       "\n",
       "    .dataframe thead th {\n",
       "        text-align: right;\n",
       "    }\n",
       "</style>\n",
       "<table border=\"1\" class=\"dataframe\">\n",
       "  <thead>\n",
       "    <tr style=\"text-align: right;\">\n",
       "      <th></th>\n",
       "      <th>company_permalink</th>\n",
       "      <th>funding_round_type</th>\n",
       "      <th>raised_amount_usd_million</th>\n",
       "      <th>permalink</th>\n",
       "      <th>name</th>\n",
       "      <th>country_code</th>\n",
       "      <th>Primary_Sector</th>\n",
       "      <th>Main_Sector</th>\n",
       "    </tr>\n",
       "  </thead>\n",
       "  <tbody>\n",
       "    <tr>\n",
       "      <th>0</th>\n",
       "      <td>/organization/1-mainstream</td>\n",
       "      <td>venture</td>\n",
       "      <td>5.000</td>\n",
       "      <td>/organization/1-mainstream</td>\n",
       "      <td>1 mainstream</td>\n",
       "      <td>USA</td>\n",
       "      <td>Apps</td>\n",
       "      <td>News, Search and Messaging</td>\n",
       "    </tr>\n",
       "    <tr>\n",
       "      <th>1</th>\n",
       "      <td>/organization/128-technology</td>\n",
       "      <td>venture</td>\n",
       "      <td>11.999</td>\n",
       "      <td>/organization/128-technology</td>\n",
       "      <td>128 technology</td>\n",
       "      <td>USA</td>\n",
       "      <td>Service Providers</td>\n",
       "      <td>Others</td>\n",
       "    </tr>\n",
       "    <tr>\n",
       "      <th>2</th>\n",
       "      <td>/organization/1366-technologies</td>\n",
       "      <td>venture</td>\n",
       "      <td>15.000</td>\n",
       "      <td>/organization/1366-technologies</td>\n",
       "      <td>1366 technologies</td>\n",
       "      <td>USA</td>\n",
       "      <td>Manufacturing</td>\n",
       "      <td>Manufacturing</td>\n",
       "    </tr>\n",
       "    <tr>\n",
       "      <th>3</th>\n",
       "      <td>/organization/1366-technologies</td>\n",
       "      <td>venture</td>\n",
       "      <td>5.000</td>\n",
       "      <td>/organization/1366-technologies</td>\n",
       "      <td>1366 technologies</td>\n",
       "      <td>USA</td>\n",
       "      <td>Manufacturing</td>\n",
       "      <td>Manufacturing</td>\n",
       "    </tr>\n",
       "    <tr>\n",
       "      <th>4</th>\n",
       "      <td>/organization/1366-technologies</td>\n",
       "      <td>venture</td>\n",
       "      <td>5.150</td>\n",
       "      <td>/organization/1366-technologies</td>\n",
       "      <td>1366 technologies</td>\n",
       "      <td>USA</td>\n",
       "      <td>Manufacturing</td>\n",
       "      <td>Manufacturing</td>\n",
       "    </tr>\n",
       "  </tbody>\n",
       "</table>\n",
       "</div>"
      ],
      "text/plain": [
       "                 company_permalink funding_round_type  \\\n",
       "0       /organization/1-mainstream            venture   \n",
       "1     /organization/128-technology            venture   \n",
       "2  /organization/1366-technologies            venture   \n",
       "3  /organization/1366-technologies            venture   \n",
       "4  /organization/1366-technologies            venture   \n",
       "\n",
       "   raised_amount_usd_million                        permalink  \\\n",
       "0                      5.000       /organization/1-mainstream   \n",
       "1                     11.999     /organization/128-technology   \n",
       "2                     15.000  /organization/1366-technologies   \n",
       "3                      5.000  /organization/1366-technologies   \n",
       "4                      5.150  /organization/1366-technologies   \n",
       "\n",
       "                name country_code     Primary_Sector  \\\n",
       "0       1 mainstream          USA               Apps   \n",
       "1     128 technology          USA  Service Providers   \n",
       "2  1366 technologies          USA      Manufacturing   \n",
       "3  1366 technologies          USA      Manufacturing   \n",
       "4  1366 technologies          USA      Manufacturing   \n",
       "\n",
       "                  Main_Sector  \n",
       "0  News, Search and Messaging  \n",
       "1                      Others  \n",
       "2               Manufacturing  \n",
       "3               Manufacturing  \n",
       "4               Manufacturing  "
      ]
     },
     "execution_count": 1548,
     "metadata": {},
     "output_type": "execute_result"
    }
   ],
   "source": [
    "D1.reset_index(drop=True,inplace=True)\n",
    "D1.head()"
   ]
  },
  {
   "cell_type": "code",
   "execution_count": 1549,
   "metadata": {},
   "outputs": [
    {
     "data": {
      "text/html": [
       "<div>\n",
       "<style scoped>\n",
       "    .dataframe tbody tr th:only-of-type {\n",
       "        vertical-align: middle;\n",
       "    }\n",
       "\n",
       "    .dataframe tbody tr th {\n",
       "        vertical-align: top;\n",
       "    }\n",
       "\n",
       "    .dataframe thead th {\n",
       "        text-align: right;\n",
       "    }\n",
       "</style>\n",
       "<table border=\"1\" class=\"dataframe\">\n",
       "  <thead>\n",
       "    <tr style=\"text-align: right;\">\n",
       "      <th></th>\n",
       "      <th>company_permalink</th>\n",
       "      <th>funding_round_type</th>\n",
       "      <th>raised_amount_usd_million</th>\n",
       "      <th>permalink</th>\n",
       "      <th>name</th>\n",
       "      <th>country_code</th>\n",
       "      <th>Primary_Sector</th>\n",
       "      <th>Main_Sector</th>\n",
       "    </tr>\n",
       "  </thead>\n",
       "  <tbody>\n",
       "    <tr>\n",
       "      <th>0</th>\n",
       "      <td>/organization/365scores</td>\n",
       "      <td>venture</td>\n",
       "      <td>5.500</td>\n",
       "      <td>/organization/365scores</td>\n",
       "      <td>365scores</td>\n",
       "      <td>GBR</td>\n",
       "      <td>Android</td>\n",
       "      <td>Social, Finance, Analytics, Advertising</td>\n",
       "    </tr>\n",
       "    <tr>\n",
       "      <th>1</th>\n",
       "      <td>/organization/7digital</td>\n",
       "      <td>venture</td>\n",
       "      <td>8.468</td>\n",
       "      <td>/organization/7digital</td>\n",
       "      <td>7digital</td>\n",
       "      <td>GBR</td>\n",
       "      <td>Content Creators</td>\n",
       "      <td>Entertainment</td>\n",
       "    </tr>\n",
       "    <tr>\n",
       "      <th>2</th>\n",
       "      <td>/organization/7digital</td>\n",
       "      <td>venture</td>\n",
       "      <td>10.000</td>\n",
       "      <td>/organization/7digital</td>\n",
       "      <td>7digital</td>\n",
       "      <td>GBR</td>\n",
       "      <td>Content Creators</td>\n",
       "      <td>Entertainment</td>\n",
       "    </tr>\n",
       "    <tr>\n",
       "      <th>3</th>\n",
       "      <td>/organization/90min</td>\n",
       "      <td>venture</td>\n",
       "      <td>15.000</td>\n",
       "      <td>/organization/90min</td>\n",
       "      <td>90min</td>\n",
       "      <td>GBR</td>\n",
       "      <td>Media</td>\n",
       "      <td>Entertainment</td>\n",
       "    </tr>\n",
       "    <tr>\n",
       "      <th>4</th>\n",
       "      <td>/organization/90min</td>\n",
       "      <td>venture</td>\n",
       "      <td>5.800</td>\n",
       "      <td>/organization/90min</td>\n",
       "      <td>90min</td>\n",
       "      <td>GBR</td>\n",
       "      <td>Media</td>\n",
       "      <td>Entertainment</td>\n",
       "    </tr>\n",
       "  </tbody>\n",
       "</table>\n",
       "</div>"
      ],
      "text/plain": [
       "         company_permalink funding_round_type  raised_amount_usd_million  \\\n",
       "0  /organization/365scores            venture                      5.500   \n",
       "1   /organization/7digital            venture                      8.468   \n",
       "2   /organization/7digital            venture                     10.000   \n",
       "3      /organization/90min            venture                     15.000   \n",
       "4      /organization/90min            venture                      5.800   \n",
       "\n",
       "                 permalink       name country_code    Primary_Sector  \\\n",
       "0  /organization/365scores  365scores          GBR           Android   \n",
       "1   /organization/7digital   7digital          GBR  Content Creators   \n",
       "2   /organization/7digital   7digital          GBR  Content Creators   \n",
       "3      /organization/90min      90min          GBR             Media   \n",
       "4      /organization/90min      90min          GBR             Media   \n",
       "\n",
       "                               Main_Sector  \n",
       "0  Social, Finance, Analytics, Advertising  \n",
       "1                            Entertainment  \n",
       "2                            Entertainment  \n",
       "3                            Entertainment  \n",
       "4                            Entertainment  "
      ]
     },
     "execution_count": 1549,
     "metadata": {},
     "output_type": "execute_result"
    }
   ],
   "source": [
    "D2.reset_index(drop=True,inplace=True)\n",
    "D2.head()"
   ]
  },
  {
   "cell_type": "code",
   "execution_count": 1550,
   "metadata": {},
   "outputs": [
    {
     "data": {
      "text/html": [
       "<div>\n",
       "<style scoped>\n",
       "    .dataframe tbody tr th:only-of-type {\n",
       "        vertical-align: middle;\n",
       "    }\n",
       "\n",
       "    .dataframe tbody tr th {\n",
       "        vertical-align: top;\n",
       "    }\n",
       "\n",
       "    .dataframe thead th {\n",
       "        text-align: right;\n",
       "    }\n",
       "</style>\n",
       "<table border=\"1\" class=\"dataframe\">\n",
       "  <thead>\n",
       "    <tr style=\"text-align: right;\">\n",
       "      <th></th>\n",
       "      <th>company_permalink</th>\n",
       "      <th>funding_round_type</th>\n",
       "      <th>raised_amount_usd_million</th>\n",
       "      <th>permalink</th>\n",
       "      <th>name</th>\n",
       "      <th>country_code</th>\n",
       "      <th>Primary_Sector</th>\n",
       "      <th>Main_Sector</th>\n",
       "    </tr>\n",
       "  </thead>\n",
       "  <tbody>\n",
       "    <tr>\n",
       "      <th>0</th>\n",
       "      <td>/organization/-fame</td>\n",
       "      <td>venture</td>\n",
       "      <td>10.000</td>\n",
       "      <td>/organization/-fame</td>\n",
       "      <td>#fame</td>\n",
       "      <td>IND</td>\n",
       "      <td>Media</td>\n",
       "      <td>Entertainment</td>\n",
       "    </tr>\n",
       "    <tr>\n",
       "      <th>1</th>\n",
       "      <td>/organization/21diamonds-india</td>\n",
       "      <td>venture</td>\n",
       "      <td>6.370</td>\n",
       "      <td>/organization/21diamonds-india</td>\n",
       "      <td>21diamonds</td>\n",
       "      <td>IND</td>\n",
       "      <td>E-Commerce</td>\n",
       "      <td>Others</td>\n",
       "    </tr>\n",
       "    <tr>\n",
       "      <th>2</th>\n",
       "      <td>/organization/adlabs-imagica</td>\n",
       "      <td>venture</td>\n",
       "      <td>8.180</td>\n",
       "      <td>/organization/adlabs-imagica</td>\n",
       "      <td>adlabs imagica</td>\n",
       "      <td>IND</td>\n",
       "      <td>Entertainment</td>\n",
       "      <td>Entertainment</td>\n",
       "    </tr>\n",
       "    <tr>\n",
       "      <th>3</th>\n",
       "      <td>/organization/akosha</td>\n",
       "      <td>venture</td>\n",
       "      <td>5.000</td>\n",
       "      <td>/organization/akosha</td>\n",
       "      <td>akosha</td>\n",
       "      <td>IND</td>\n",
       "      <td>Consumer Internet</td>\n",
       "      <td>Social, Finance, Analytics, Advertising</td>\n",
       "    </tr>\n",
       "    <tr>\n",
       "      <th>4</th>\n",
       "      <td>/organization/amagi-media-labs</td>\n",
       "      <td>venture</td>\n",
       "      <td>5.500</td>\n",
       "      <td>/organization/amagi-media-labs</td>\n",
       "      <td>amagi media labs</td>\n",
       "      <td>IND</td>\n",
       "      <td>Advertising</td>\n",
       "      <td>Social, Finance, Analytics, Advertising</td>\n",
       "    </tr>\n",
       "  </tbody>\n",
       "</table>\n",
       "</div>"
      ],
      "text/plain": [
       "                company_permalink funding_round_type  \\\n",
       "0             /organization/-fame            venture   \n",
       "1  /organization/21diamonds-india            venture   \n",
       "2    /organization/adlabs-imagica            venture   \n",
       "3            /organization/akosha            venture   \n",
       "4  /organization/amagi-media-labs            venture   \n",
       "\n",
       "   raised_amount_usd_million                       permalink  \\\n",
       "0                     10.000             /organization/-fame   \n",
       "1                      6.370  /organization/21diamonds-india   \n",
       "2                      8.180    /organization/adlabs-imagica   \n",
       "3                      5.000            /organization/akosha   \n",
       "4                      5.500  /organization/amagi-media-labs   \n",
       "\n",
       "               name country_code     Primary_Sector  \\\n",
       "0             #fame          IND              Media   \n",
       "1        21diamonds          IND         E-Commerce   \n",
       "2    adlabs imagica          IND      Entertainment   \n",
       "3            akosha          IND  Consumer Internet   \n",
       "4  amagi media labs          IND        Advertising   \n",
       "\n",
       "                               Main_Sector  \n",
       "0                            Entertainment  \n",
       "1                                   Others  \n",
       "2                            Entertainment  \n",
       "3  Social, Finance, Analytics, Advertising  \n",
       "4  Social, Finance, Analytics, Advertising  "
      ]
     },
     "execution_count": 1550,
     "metadata": {},
     "output_type": "execute_result"
    }
   ],
   "source": [
    "D3.reset_index(drop=True,inplace=True)\n",
    "D3.head()"
   ]
  },
  {
   "cell_type": "markdown",
   "metadata": {},
   "source": [
    "#### Let's start the analysis..."
   ]
  },
  {
   "cell_type": "code",
   "execution_count": 1551,
   "metadata": {},
   "outputs": [
    {
     "name": "stdout",
     "output_type": "stream",
     "text": [
      "The total number of investments in USA (United States) is 11149\n",
      "The total number of investments in GBR (Great Britain or United Kingdom) is 577\n",
      "The total number of investments in IND (India) is 299\n"
     ]
    }
   ],
   "source": [
    "## Finding the total number of investments\n",
    "\n",
    "print(f'The total number of investments in USA (United States) is {D1.shape[0]}')\n",
    "\n",
    "print(f'The total number of investments in GBR (Great Britain or United Kingdom) is {D2.shape[0]}')\n",
    "\n",
    "print(f'The total number of investments in IND (India) is {D3.shape[0]}')\n",
    "\n",
    "## Alternatively, we can use len(df.index) or simply Main sector or amount invested column count. \n",
    "#As we have removed all the null values and not required 'Blanks' sector, we will get correct observations"
   ]
  },
  {
   "cell_type": "code",
   "execution_count": 1552,
   "metadata": {},
   "outputs": [
    {
     "name": "stdout",
     "output_type": "stream",
     "text": [
      "The total amount of investment in USA (United States) is 99661524549.0 USD\n",
      "The total amount of investment in GBR (Great Britain or United Kingdom) is 5028704358.000001 USD\n",
      "The total amount of investment in IND (India) is 2683537552.0 USD\n"
     ]
    }
   ],
   "source": [
    "## Finding the total amount of investment (USD)\n",
    "\n",
    "print(f'The total amount of investment in USA (United States) is {D1.raised_amount_usd_million.sum()*10**6} USD')\n",
    "\n",
    "print(f'The total amount of investment in GBR (Great Britain or United Kingdom) is {D2.raised_amount_usd_million.sum()*10**6} USD')\n",
    "\n",
    "print(f'The total amount of investment in IND (India) is {D3.raised_amount_usd_million.sum()*10**6} USD')"
   ]
  },
  {
   "cell_type": "markdown",
   "metadata": {},
   "source": [
    "### Finding the main sectors based on number of investments"
   ]
  },
  {
   "cell_type": "markdown",
   "metadata": {},
   "source": [
    "#### USA Top 3 sectors"
   ]
  },
  {
   "cell_type": "code",
   "execution_count": 1553,
   "metadata": {},
   "outputs": [],
   "source": [
    "## USA main sectors based on number of investments using groupby\n",
    "\n",
    "D1_USA_num_inv = pd.DataFrame(D1.groupby([D1['Main_Sector'],D1['country_code']])['Main_Sector'].count().sort_values(ascending=False))\n",
    "\n",
    "## Renaming column because the count col and Main sector index both are named as Main sector. So i am unable to reset the index\n",
    "D1_USA_num_inv = D1_USA_num_inv.rename(columns={'Main_Sector': 'Count'})"
   ]
  },
  {
   "cell_type": "code",
   "execution_count": 1554,
   "metadata": {},
   "outputs": [
    {
     "name": "stdout",
     "output_type": "stream",
     "text": [
      "                               Main_Sector Country  Count\n",
      "0                                   Others     USA   2923\n",
      "1               Cleantech / Semiconductors     USA   2297\n",
      "2  Social, Finance, Analytics, Advertising     USA   1912\n"
     ]
    }
   ],
   "source": [
    "## Top 3 sector names in USA with number of investments and creating new df to use it for plot 3\n",
    "\n",
    "D1_USA_top3 = D1_USA_num_inv.reset_index().iloc[0:3,:]\n",
    "D1_USA_top3 = D1_USA_top3.rename(columns={'country_code': 'Country'})\n",
    "\n",
    "print(D1_USA_top3)"
   ]
  },
  {
   "cell_type": "markdown",
   "metadata": {},
   "source": [
    "#### GBR Top 3 sectors"
   ]
  },
  {
   "cell_type": "code",
   "execution_count": 1555,
   "metadata": {},
   "outputs": [],
   "source": [
    "## GBR main sectors based on number of investments using groupby\n",
    "\n",
    "D2_GBR_num_inv = pd.DataFrame(D2.groupby([D2['Main_Sector'],D2['country_code']])['Main_Sector'].count().sort_values(ascending=False))\n",
    "\n",
    "## Renaming column because the count col and Main sector index both are named as Main sector. So i am unable to reset the index\n",
    "D2_GBR_num_inv = D2_GBR_num_inv.rename(columns={'Main_Sector': 'Count'})"
   ]
  },
  {
   "cell_type": "code",
   "execution_count": 1556,
   "metadata": {},
   "outputs": [
    {
     "name": "stdout",
     "output_type": "stream",
     "text": [
      "                               Main_Sector Country  Count\n",
      "0                                   Others     GBR    143\n",
      "1               Cleantech / Semiconductors     GBR    127\n",
      "2  Social, Finance, Analytics, Advertising     GBR     98\n"
     ]
    }
   ],
   "source": [
    "## Top 3 sector names in GBR with number of investments and creating new df to use it for plot 3\n",
    "\n",
    "D2_GBR_top3 = D2_GBR_num_inv.reset_index().iloc[0:3,:]\n",
    "D2_GBR_top3 = D2_GBR_top3.rename(columns={'country_code': 'Country'})\n",
    "\n",
    "print(D2_GBR_top3)"
   ]
  },
  {
   "cell_type": "markdown",
   "metadata": {},
   "source": [
    "#### IND Top 3 sectors"
   ]
  },
  {
   "cell_type": "code",
   "execution_count": 1557,
   "metadata": {},
   "outputs": [],
   "source": [
    "## IND main sectors based on number of investments using groupby\n",
    "\n",
    "D3_IND_num_inv = pd.DataFrame(D3.groupby([D3['Main_Sector'],D3['country_code']])['Main_Sector'].count().sort_values(ascending=False))\n",
    "\n",
    "## Renaming column because the count col and Main sector index both are named as Main sector. So i am unable to reset the index\n",
    "D3_IND_num_inv = D3_IND_num_inv.rename(columns={'Main_Sector': 'Count'})"
   ]
  },
  {
   "cell_type": "code",
   "execution_count": 1558,
   "metadata": {},
   "outputs": [
    {
     "name": "stdout",
     "output_type": "stream",
     "text": [
      "                  Main_Sector Country  Count\n",
      "0                      Others     IND    109\n",
      "1  News, Search and Messaging     IND     52\n",
      "2               Entertainment     IND     33\n"
     ]
    }
   ],
   "source": [
    "## Top 3 sector names in GBR with number of investments and creating new df to use it for plot 3\n",
    "\n",
    "D3_IND_top3 = D3_IND_num_inv.reset_index().iloc[0:3,:]\n",
    "D3_IND_top3 = D3_IND_top3.rename(columns={'country_code': 'Country'})\n",
    "\n",
    "print(D3_IND_top3)"
   ]
  },
  {
   "cell_type": "markdown",
   "metadata": {},
   "source": [
    "### Finding the companies which have received the highest investment in top and second best sector"
   ]
  },
  {
   "cell_type": "markdown",
   "metadata": {},
   "source": [
    "#### Highest investment companies in Top sector 'Others'"
   ]
  },
  {
   "cell_type": "markdown",
   "metadata": {},
   "source": [
    "#### USA"
   ]
  },
  {
   "cell_type": "code",
   "execution_count": 1559,
   "metadata": {},
   "outputs": [
    {
     "data": {
      "text/plain": [
       "permalink                  name       \n",
       "/organization/virtustream  virtustream   64.300\n",
       "Name: raised_amount_usd_million, dtype: float64"
      ]
     },
     "execution_count": 1559,
     "metadata": {},
     "output_type": "execute_result"
    }
   ],
   "source": [
    "## For sector 'Others', grouping the dataframe to get the sum to find the company which has received the highest\n",
    "# investment in USA\n",
    "\n",
    "D1[D1.Main_Sector == 'Others'].groupby([D1['permalink'], D1['name']])['raised_amount_usd_million']\\\n",
    "                                        .sum().sort_values(ascending=False).head(1)"
   ]
  },
  {
   "cell_type": "markdown",
   "metadata": {},
   "source": [
    "#### GBR"
   ]
  },
  {
   "cell_type": "code",
   "execution_count": 1560,
   "metadata": {},
   "outputs": [
    {
     "data": {
      "text/plain": [
       "permalink                     name          \n",
       "/organization/electric-cloud  electric cloud   37.000\n",
       "Name: raised_amount_usd_million, dtype: float64"
      ]
     },
     "execution_count": 1560,
     "metadata": {},
     "output_type": "execute_result"
    }
   ],
   "source": [
    "## For sector 'Others', grouping the dataframe to get the sum to find the company which has received the highest\n",
    "# investment in GBR\n",
    "\n",
    "D2[D2.Main_Sector == 'Others'].groupby([D2['permalink'], D2['name']])['raised_amount_usd_million']\\\n",
    "                                        .sum().sort_values(ascending=False).head(1)"
   ]
  },
  {
   "cell_type": "markdown",
   "metadata": {},
   "source": [
    "#### IND"
   ]
  },
  {
   "cell_type": "code",
   "execution_count": 1561,
   "metadata": {},
   "outputs": [
    {
     "data": {
      "text/plain": [
       "permalink                   name        \n",
       "/organization/firstcry-com  firstcry.com   39.000\n",
       "Name: raised_amount_usd_million, dtype: float64"
      ]
     },
     "execution_count": 1561,
     "metadata": {},
     "output_type": "execute_result"
    }
   ],
   "source": [
    "## For sector 'Others', grouping the dataframe to get the sum to find the company which has received the highest\n",
    "# investment in IND\n",
    "\n",
    "D3[D3.Main_Sector == 'Others'].groupby([D3['permalink'], D3['name']])['raised_amount_usd_million']\\\n",
    "                                        .sum().sort_values(ascending=False).head(1)"
   ]
  },
  {
   "cell_type": "markdown",
   "metadata": {},
   "source": [
    "#### Highest investment companies in second best sectors (USA = 'Cleantech / Semiconductors', GBR = 'Cleantech / Semiconductors', IND = 'News, Search and Messaging'"
   ]
  },
  {
   "cell_type": "markdown",
   "metadata": {},
   "source": [
    "#### USA"
   ]
  },
  {
   "cell_type": "code",
   "execution_count": 1562,
   "metadata": {},
   "outputs": [
    {
     "data": {
      "text/plain": [
       "permalink               name    \n",
       "/organization/biodesix  biodesix   75.300\n",
       "Name: raised_amount_usd_million, dtype: float64"
      ]
     },
     "execution_count": 1562,
     "metadata": {},
     "output_type": "execute_result"
    }
   ],
   "source": [
    "## For sector 'Cleantech / Semiconductors', grouping the dataframe to get the sum to find the company which has \n",
    "# received the highest investment in USA\n",
    "\n",
    "D1[D1.Main_Sector == 'Cleantech / Semiconductors'].groupby([D1['permalink'], D1['name']])['raised_amount_usd_million']\\\n",
    "                                        .sum().sort_values(ascending=False).head(1)"
   ]
  },
  {
   "cell_type": "markdown",
   "metadata": {},
   "source": [
    "#### GBR"
   ]
  },
  {
   "cell_type": "code",
   "execution_count": 1563,
   "metadata": {},
   "outputs": [
    {
     "data": {
      "text/plain": [
       "permalink                  name       \n",
       "/organization/eusa-pharma  eusa pharma   35.600\n",
       "Name: raised_amount_usd_million, dtype: float64"
      ]
     },
     "execution_count": 1563,
     "metadata": {},
     "output_type": "execute_result"
    }
   ],
   "source": [
    "## For sector 'Cleantech / Semiconductors', grouping the dataframe to get the sum to find the company which has \n",
    "# received the highest investment in GBR\n",
    "\n",
    "D2[D2.Main_Sector == 'Cleantech / Semiconductors'].groupby([D2['permalink'], D2['name']])['raised_amount_usd_million']\\\n",
    "                                        .sum().sort_values(ascending=False).head(1)"
   ]
  },
  {
   "cell_type": "markdown",
   "metadata": {},
   "source": [
    "#### IND"
   ]
  },
  {
   "cell_type": "code",
   "execution_count": 1564,
   "metadata": {},
   "outputs": [
    {
     "data": {
      "text/plain": [
       "permalink                                       name   \n",
       "/organization/gupshup-technology-india-pvt-ltd  gupshup   33.000\n",
       "Name: raised_amount_usd_million, dtype: float64"
      ]
     },
     "execution_count": 1564,
     "metadata": {},
     "output_type": "execute_result"
    }
   ],
   "source": [
    "## For sector 'News, Search and Messaging', grouping the dataframe to get the sum to find the company which has \n",
    "# received the highest investment in IND\n",
    "\n",
    "D3[D3.Main_Sector == 'News, Search and Messaging'].groupby([D3['permalink'], D3['name']])['raised_amount_usd_million']\\\n",
    "                                        .sum().sort_values(ascending=False).head(1)"
   ]
  },
  {
   "cell_type": "markdown",
   "metadata": {},
   "source": [
    "# Checkpoint 6: Plots"
   ]
  },
  {
   "cell_type": "markdown",
   "metadata": {},
   "source": [
    "#### I have a dataframe 'Invested_Amount_Mean' which i created during funding type analysis, I am going to use it for 1st plot showing the representative amount of investment in each funding type"
   ]
  },
  {
   "cell_type": "code",
   "execution_count": 1565,
   "metadata": {},
   "outputs": [],
   "source": [
    "## But first lets sort the dataframe\n",
    "Invested_Amount_Mean = Invested_Amount_Mean.sort_values(by='raised_amount_usd_million').reset_index(drop=True)"
   ]
  },
  {
   "cell_type": "markdown",
   "metadata": {},
   "source": [
    "### Plot 1"
   ]
  },
  {
   "cell_type": "code",
   "execution_count": 1567,
   "metadata": {
    "scrolled": false
   },
   "outputs": [
    {
     "data": {
      "image/png": "[encoded data removed]",
      "text/plain": [
       "<Figure size 864x576 with 1 Axes>"
      ]
     },
     "metadata": {},
     "output_type": "display_data"
    }
   ],
   "source": [
    "## increasing the plot size\n",
    "plt.gcf().set_size_inches(12,8)\n",
    "\n",
    "## plotting the bar with fund type and their mean values\n",
    "plt.bar(Invested_Amount_Mean['funding_round_type'], Invested_Amount_Mean['raised_amount_usd_million'],\n",
    "          width=0.5, align='center', linewidth=1.5, edgecolor ='yellow',color=['#42b7bd','#42b7bd','#a834a8','#42b7bd'])\n",
    "\n",
    "## checking with seaborn\n",
    "#sns.set_style('whitegrid')\n",
    "#ax = sns.barplot(data=Invested_Amount_Mean, x='funding_round_type', y='raised_amount_usd_million',\n",
    "       #linewidth=1.5, edgecolor ='yellow', palette=['#42b7bd','#42b7bd','#a834a8','#42b7bd'])\n",
    "#hue='funding_round_type', dodge=False\n",
    "\n",
    "## setting the title and labels\n",
    "plt.title('Funding Type Analysis\\n', fontdict = {'fontsize': 32, 'fontweight': 'bold', 'color': '#768573'})\n",
    "plt.xlabel('Funding Type', fontdict={'fontsize':18, 'fontweight':'bold', 'color': 'tan'})\n",
    "plt.ylabel('Mean Invested Amount USD\\n', fontdict={'fontsize':18, 'fontweight':'bold', 'color': 'tan'})\n",
    "\n",
    "## styling the ticks (rotating xticks to 30 deg and adding a M for million with the ytick values)\n",
    "ticks = np.arange(0, 60, 10)\n",
    "labels = [f'{i} M' for i in ticks]\n",
    "\n",
    "plt.yticks(ticks, labels, fontsize=14, color='#799980')\n",
    "plt.xticks(rotation=30, fontsize=14, color='#799980')\n",
    "\n",
    "## using the horizontal line to show the types which falls under 5-15million limit\n",
    "plt.axhline(5, color='maroon')\n",
    "plt.axhline(15, color='maroon')\n",
    "\n",
    "## using grid function to remove vertical lines\n",
    "plt.grid(b=None, axis='x')\n",
    "plt.show()"
   ]
  },
  {
   "cell_type": "markdown",
   "metadata": {},
   "source": [
    "### Plot 2"
   ]
  },
  {
   "cell_type": "code",
   "execution_count": 1568,
   "metadata": {},
   "outputs": [],
   "source": [
    "## Let's use the already created top9 dataframe by re-setting the index so that we can plot sum against countries\n",
    "top_countries = top9.reset_index()"
   ]
  },
  {
   "cell_type": "code",
   "execution_count": 1569,
   "metadata": {
    "scrolled": false
   },
   "outputs": [
    {
     "data": {
      "image/png": "[encoded data removed]",
      "text/plain": [
       "<Figure size 864x576 with 1 Axes>"
      ]
     },
     "metadata": {},
     "output_type": "display_data"
    }
   ],
   "source": [
    "## increasing the plot size and setting the grid style\n",
    "plt.gcf().set_size_inches(12,8)\n",
    "sns.set_style('whitegrid')\n",
    "\n",
    "## plotting the bar with countries and their total investments\n",
    "ax = sns.barplot(data=top_countries, x='country_code', y='raised_amount_usd_million', palette='crest')\n",
    "\n",
    "## setting the title and labels\n",
    "plt.title('Investments in Top Countries\\n', fontdict={'fontsize':32, 'fontweight':'bold', 'color': '#768573'})\n",
    "plt.xlabel('\\nCountry', fontdict={'fontsize':18, 'fontweight':'bold', 'color': 'tan'})\n",
    "plt.ylabel('Total Invested Amount USD\\n', fontdict={'fontsize':18, 'fontweight':'bold', 'color': 'tan'})\n",
    "\n",
    "## styling the ticks (rotating xticks to 30 deg and adding a B for billion with the ytick values)\n",
    "ticks = np.arange(0, 500000, 50000)\n",
    "labels = [f'{round(i/1000)} B' for i in ticks]\n",
    "\n",
    "plt.yticks(ticks, labels, fontsize=14, color='#799980')\n",
    "plt.xticks(rotation=30, fontsize=14, color='#799980')\n",
    "\n",
    "plt.show()"
   ]
  },
  {
   "cell_type": "markdown",
   "metadata": {},
   "source": [
    "### Plot 3"
   ]
  },
  {
   "cell_type": "markdown",
   "metadata": {},
   "source": [
    "#### Let's use the dataframes D1_USA_top3, D2_GBR_top3 & D3_IND_top3 to plot number of investments in the top 3 sectors of the top 3 countries"
   ]
  },
  {
   "cell_type": "markdown",
   "metadata": {},
   "source": [
    "#### I am going to concat all of the above mentioned dataframes to get the data in a single dataframe"
   ]
  },
  {
   "cell_type": "code",
   "execution_count": 1570,
   "metadata": {},
   "outputs": [],
   "source": [
    "top3 = pd.concat([D1_USA_top3, D2_GBR_top3, D3_IND_top3])\n",
    "\n",
    "## Renaming the column name for representation purpose\n",
    "top3 = top3.rename(columns={'Main_Sector': 'Main Sector'})"
   ]
  },
  {
   "cell_type": "code",
   "execution_count": 1571,
   "metadata": {
    "scrolled": false
   },
   "outputs": [
    {
     "data": {
      "image/png": "[encoded data removed]",
      "text/plain": [
       "<Figure size 864x576 with 1 Axes>"
      ]
     },
     "metadata": {},
     "output_type": "display_data"
    }
   ],
   "source": [
    "## increasing the plot size and setting the grid style\n",
    "plt.gcf().set_size_inches(12, 8)\n",
    "\n",
    "## plotting the bar with countries top 3 sectors and number of investments\n",
    "sns.barplot(data = top3, x='Country', y='Count', hue='Main Sector', palette='husl')\n",
    "\n",
    "## setting the title, labels and ticks\n",
    "plt.title('Top 3 Sectors\\n', fontdict={'fontsize':32, 'fontweight':'bold', 'color': '#768573'})\n",
    "plt.xlabel('\\nCountry', fontdict={'fontsize':18, 'fontweight':'bold', 'color': 'tan'})\n",
    "plt.ylabel('Total Number of Investments\\n', fontdict={'fontsize':18, 'fontweight':'bold', 'color': 'tan'})\n",
    "\n",
    "plt.yticks(fontsize=14, color='#799980')\n",
    "plt.xticks(fontsize=14, color='#799980')\n",
    "\n",
    "plt.show()"
   ]
  },
  {
   "cell_type": "code",
   "execution_count": 1274,
   "metadata": {},
   "outputs": [],
   "source": [
    "import altair as alt"
   ]
  },
  {
   "cell_type": "markdown",
   "metadata": {},
   "source": [
    "### Need to install the altair package first using pip"
   ]
  },
  {
   "cell_type": "code",
   "execution_count": 1431,
   "metadata": {},
   "outputs": [
    {
     "data": {
      "text/html": [
       "\n",
       "<div id=\"altair-viz-9163e42fe05a46dca4ffdb930b11061f\"></div>\n",
       "<script type=\"text/javascript\">\n",
       "  (function(spec, embedOpt){\n",
       "    let outputDiv = document.currentScript.previousElementSibling;\n",
       "    if (outputDiv.id !== \"altair-viz-9163e42fe05a46dca4ffdb930b11061f\") {\n",
       "      outputDiv = document.getElementById(\"altair-viz-9163e42fe05a46dca4ffdb930b11061f\");\n",
       "    }\n",
       "    const paths = {\n",
       "      \"vega\": \"https://cdn.jsdelivr.net/npm//vega@5?noext\",\n",
       "      \"vega-lib\": \"https://cdn.jsdelivr.net/npm//vega-lib?noext\",\n",
       "      \"vega-lite\": \"https://cdn.jsdelivr.net/npm//vega-lite@4.8.1?noext\",\n",
       "      \"vega-embed\": \"https://cdn.jsdelivr.net/npm//vega-embed@6?noext\",\n",
       "    };\n",
       "\n",
       "    function loadScript(lib) {\n",
       "      return new Promise(function(resolve, reject) {\n",
       "        var s = document.createElement('script');\n",
       "        s.src = paths[lib];\n",
       "        s.async = true;\n",
       "        s.onload = () => resolve(paths[lib]);\n",
       "        s.onerror = () => reject(`Error loading script: ${paths[lib]}`);\n",
       "        document.getElementsByTagName(\"head\")[0].appendChild(s);\n",
       "      });\n",
       "    }\n",
       "\n",
       "    function showError(err) {\n",
       "      outputDiv.innerHTML = `<div class=\"error\" style=\"color:red;\">${err}</div>`;\n",
       "      throw err;\n",
       "    }\n",
       "\n",
       "    function displayChart(vegaEmbed) {\n",
       "      vegaEmbed(outputDiv, spec, embedOpt)\n",
       "        .catch(err => showError(`Javascript Error: ${err.message}<br>This usually means there's a typo in your chart specification. See the javascript console for the full traceback.`));\n",
       "    }\n",
       "\n",
       "    if(typeof define === \"function\" && define.amd) {\n",
       "      requirejs.config({paths});\n",
       "      require([\"vega-embed\"], displayChart, err => showError(`Error loading script: ${err.message}`));\n",
       "    } else if (typeof vegaEmbed === \"function\") {\n",
       "      displayChart(vegaEmbed);\n",
       "    } else {\n",
       "      loadScript(\"vega\")\n",
       "        .then(() => loadScript(\"vega-lite\"))\n",
       "        .then(() => loadScript(\"vega-embed\"))\n",
       "        .catch(showError)\n",
       "        .then(() => displayChart(vegaEmbed));\n",
       "    }\n",
       "  })({\"config\": {\"view\": {\"continuousWidth\": 400, \"continuousHeight\": 300}, \"header\": {\"labelAngle\": 0, \"labelColor\": \"seagreen\", \"labelFontSize\": 10, \"titleColor\": \"green\", \"titleFontSize\": 14}}, \"data\": {\"name\": \"data-ac86594cbcda8c6e6549e98a1e1b106d\"}, \"mark\": \"bar\", \"encoding\": {\"color\": {\"type\": \"nominal\", \"field\": \"Country\"}, \"column\": {\"type\": \"nominal\", \"field\": \"Main Sector\"}, \"x\": {\"type\": \"nominal\", \"field\": \"Country\"}, \"y\": {\"type\": \"quantitative\", \"field\": \"Count\"}}, \"height\": 190, \"width\": 145, \"$schema\": \"https://vega.github.io/schema/vega-lite/v4.8.1.json\", \"datasets\": {\"data-ac86594cbcda8c6e6549e98a1e1b106d\": [{\"Main Sector\": \"Others\", \"Country\": \"USA\", \"Count\": 2923}, {\"Main Sector\": \"Cleantech / Semiconductors\", \"Country\": \"USA\", \"Count\": 2297}, {\"Main Sector\": \"Social, Finance, Analytics, Advertising\", \"Country\": \"USA\", \"Count\": 1912}, {\"Main Sector\": \"Others\", \"Country\": \"GBR\", \"Count\": 143}, {\"Main Sector\": \"Cleantech / Semiconductors\", \"Country\": \"GBR\", \"Count\": 127}, {\"Main Sector\": \"Social, Finance, Analytics, Advertising\", \"Country\": \"GBR\", \"Count\": 98}, {\"Main Sector\": \"Others\", \"Country\": \"IND\", \"Count\": 109}, {\"Main Sector\": \"News, Search and Messaging\", \"Country\": \"IND\", \"Count\": 52}, {\"Main Sector\": \"Entertainment\", \"Country\": \"IND\", \"Count\": 33}]}}, {\"mode\": \"vega-lite\"});\n",
       "</script>"
      ],
      "text/plain": [
       "alt.Chart(...)"
      ]
     },
     "execution_count": 1431,
     "metadata": {},
     "output_type": "execute_result"
    }
   ],
   "source": [
    "## Alternate plot using altair\n",
    "\n",
    "alt.BarConfig(align='center')\n",
    "\n",
    "chart = alt.Chart(top3).mark_bar().encode(\n",
    "    x='Country',\n",
    "    y='Count',\n",
    "    color='Country',\n",
    "    column='Main Sector'\n",
    ").properties(\n",
    "    width=145,\n",
    "    height=190\n",
    ")\n",
    "\n",
    "chart.configure_header(\n",
    "    titleColor='green',\n",
    "    titleFontSize=14,\n",
    "    labelColor='seagreen',\n",
    "    labelFontSize=10,\n",
    "    labelAngle = 0\n",
    ")\n",
    "\n",
    "#chart.configure_axisX(title='Total Investments', titleY=\"Undefined\")"
   ]
  },
  {
   "cell_type": "code",
   "execution_count": null,
   "metadata": {},
   "outputs": [],
   "source": []
  }
 ],
 "metadata": {
  "kernelspec": {
   "display_name": "Python 3",
   "language": "python",
   "name": "python3"
  },
  "language_info": {
   "codemirror_mode": {
    "name": "ipython",
    "version": 3
   },
   "file_extension": ".py",
   "mimetype": "text/x-python",
   "name": "python",
   "nbconvert_exporter": "python",
   "pygments_lexer": "ipython3",
   "version": "3.8.5"
  }
 },
 "nbformat": 4,
 "nbformat_minor": 4
}
